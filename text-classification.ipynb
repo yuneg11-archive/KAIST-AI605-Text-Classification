{
  "cells": [
    {
      "cell_type": "markdown",
      "metadata": {
        "id": "mbGnNWI1lRy_"
      },
      "source": [
        "# KAIST AI605 Assignment 1: Text Classification"
      ]
    },
    {
      "cell_type": "markdown",
      "metadata": {
        "id": "NhwGw3TdgXmw"
      },
      "source": [
        "## Environment\n",
        "You will only use Python 3.7 and PyTorch 1.9, which is already available on Colab:"
      ]
    },
    {
      "cell_type": "code",
      "execution_count": 1,
      "metadata": {
        "id": "kYxEp1XMpxem",
        "outputId": "a2d59ff3-8865-4e76-a0bc-da3db9ce6e67"
      },
      "outputs": [
        {
          "name": "stdout",
          "output_type": "stream",
          "text": [
            "python 3.7.12\n",
            "torch 1.9.0+cu111\n"
          ]
        }
      ],
      "source": [
        "from platform import python_version\n",
        "from collections import Counter\n",
        "import re\n",
        "import os\n",
        "\n",
        "import torch\n",
        "from torch import nn\n",
        "from torch.nn import functional as F\n",
        "from torch.utils.data import TensorDataset, DataLoader\n",
        "\n",
        "device = torch.device(\"cuda:0\" if torch.cuda.is_available() else \"cpu\")\n",
        "\n",
        "print(f\"python {python_version()}\")\n",
        "print(f\"torch {torch.__version__}\")"
      ]
    },
    {
      "cell_type": "markdown",
      "metadata": {
        "id": "sB7xyzIgnnkA"
      },
      "source": [
        "## 1. Limitations of Vanilla RNNs\n",
        "In Lecture 02, we saw that a multi-layer perceptron (MLP) without activation function is equivalent to a single linear transformation with respect to the inputs.\n",
        "One can define a vanilla recurrent neural network without activation as, given inputs $\\textbf{x}_1 \\dots \\textbf{x}_T$, the outputs $\\textbf{h}_t$ is obtained by\n",
        "$$\\textbf{h}_t = \\textbf{V}\\textbf{h}_{t-1} + \\textbf{U}\\textbf{x}_t + \\textbf{b},$$\n",
        "where $\\textbf{V}, \\textbf{U}, \\textbf{b}$ are trainable weights."
      ]
    },
    {
      "cell_type": "markdown",
      "metadata": {
        "id": "L0zYxt4BgXmz"
      },
      "source": [
        "> **Problem 1.1** *(2 point)* Show that such recurrent neural network (RNN) without activation function is equivalent to a single linear transformation with respect to the inputs, which means each $\\textbf{h}_t$ is a linear combination of the inputs."
      ]
    },
    {
      "cell_type": "markdown",
      "metadata": {
        "id": "UC7NWUqZgXmz"
      },
      "source": [
        "> **Solution 1.1**\n",
        "  Let's substitute $\\textbf{h}_t$ with the fact that $\\textbf{h}_{t-1} = \\textbf{V}\\textbf{h}_{t-2} + \\textbf{U}\\textbf{x}_{t-1} + \\textbf{b}$.\n",
        "  Then we get,\n",
        "$$\n",
        "    \\begin{align*}\n",
        "        \\textbf{h}_t\n",
        "        &= \\textbf{V}\\textbf{h}_{t-1} + \\textbf{U}\\textbf{x}_t + \\textbf{b} \\\\\n",
        "        &= \\textbf{V}(\\textbf{V}\\textbf{h}_{t-2} + \\textbf{U}\\textbf{x}_{t-1} + \\textbf{b}) + \\textbf{U}\\textbf{x}_t + \\textbf{b} \\\\\n",
        "        & \\qquad\\qquad\\qquad\\qquad\\vdots \\\\\n",
        "        &= \\textbf{V}(\\textbf{V}( \\cdots \\textbf{V}(\\textbf{U}\\textbf{x}_{1} + \\textbf{b}) + \\textbf{U}\\textbf{x}_{2} + \\textbf{b}) \\cdots) + \\textbf{U}\\textbf{x}_t + \\textbf{b} \\\\\n",
        "        &= \\textbf{V}^{t-1}\\textbf{U}\\textbf{x}_1 + \\textbf{V}^{t-2}\\textbf{U}\\textbf{x}_2 + \\cdots + \\textbf{V}\\textbf{U}\\textbf{x}_{t-1} + \\textbf{U}\\textbf{x}_t + \\left(\\sum_{i=1}^t\\textbf{V}^{t-1}\\right)\\textbf{b} \\\\\n",
        "        &= \\textbf{W}_{t-1}\\textbf{x}_1 + \\textbf{W}_{t-2}\\textbf{x}_2 + \\cdots + \\textbf{W}_1\\textbf{x}_{t-1} + \\textbf{W}_0\\textbf{x}_t + \\textbf{c}_t\n",
        "    \\end{align*}\n",
        "$$\n",
        "where $\\textbf{W}_t = \\textbf{V}^t\\textbf{U}$ and $\\textbf{c}_t = \\left(\\sum_{i=1}^t\\textbf{V}^{t-1}\\right)\\textbf{b}$.\n",
        "And this is the single linear transformation with respect to the inputs $\\textbf{x}_1, \\cdots \\textbf{x}_t$."
      ]
    },
    {
      "cell_type": "markdown",
      "metadata": {
        "id": "fvQ94PLLgXm0"
      },
      "source": [
        "In Lecture 05 and 06, we will see how RNNs can model non-linearity via activation function, but they still suffer from exploding or vanishing gradients. We can mathematically show that, if the recurrent relation is\n",
        "$$ \\textbf{h}_t = \\sigma (\\textbf{V}\\textbf{h}_{t-1} + \\textbf{U}\\textbf{x}_t + \\textbf{b}) $$\n",
        "then\n",
        "$$ \\frac{\\partial \\textbf{h}_t}{\\partial \\textbf{h}_{t-1}} = \\text{diag}(\\sigma' (\\textbf{V}\\textbf{h}_{t-1} + \\textbf{U}\\textbf{x}_t + \\textbf{b}))\\textbf{V}$$\n",
        "so\n",
        "$$\\frac{\\partial \\textbf{h}_T}{\\partial \\textbf{h}_1} \\propto \\textbf{V}^{T-1}$$\n",
        "which means this term will be very close to zero if the norm of $\\bf{V}$ is smaller than 1 and really big otherwise."
      ]
    },
    {
      "cell_type": "markdown",
      "metadata": {
        "id": "fyUUZYp_gXm0"
      },
      "source": [
        "> **Problem 1.2** *(2 points)* Explain how exploding gradient can be mitigated if we use gradient clipping."
      ]
    },
    {
      "cell_type": "markdown",
      "metadata": {
        "id": "XOnzyTDWgXm0"
      },
      "source": [
        "> **Solution 1.2**\n",
        "  As given above, the gradient of $\\textbf{h}_T$ with respect to $\\textbf{h}_1$ is proportional to $\\textbf{V}^{T-1}$, which is\n",
        "$$\n",
        "    \\textbf{g}_T = \\frac{\\partial \\textbf{h}_T}{\\partial \\textbf{h}_1} \\propto \\textbf{V}^{T-1}.\n",
        "$$\n",
        "This means that if the norm of $\\textbf{V}$ is larger than $1$, the gradient increases exponentially as $T$ increases, which leads to the exploding of the gradient. \n",
        "By using gradient clipping, the clipped gradient becomes\n",
        "$$\n",
        "    \\hat{\\textbf{g}}_T = \\begin{cases}\n",
        "        c \\times \\frac{\\textbf{g}_T}{\\left\\Vert\\textbf{g}_T\\right\\Vert} & \\text{ if } \\left\\Vert\\textbf{g}_T\\right\\Vert > c \\\\\n",
        "        \\textbf{g}_T & \\text{otherwise}\n",
        "    \\end{cases}\n",
        "$$\n",
        "where $c$ is the positive constant.\n",
        "Then the norm of the gradient is bounded by $c$, which is $\\left\\Vert\\hat{\\textbf{g}}_T\\right\\Vert \\le c$. \n",
        "So, the gradient clipping upper bounds the norm of the gradient by $c$, which prevents the gradient from exploding."
      ]
    },
    {
      "cell_type": "markdown",
      "metadata": {
        "id": "F-Ccb0AygXm1"
      },
      "source": [
        "> **Problem 1.3** *(2 points)* Explain how vanishing gradient can be mitigated if we use LSTM. See the Lecture 05 and 06 slides for the definition of LSTM."
      ]
    },
    {
      "cell_type": "markdown",
      "metadata": {
        "id": "6ks_If6lgXm1"
      },
      "source": [
        "> **Solution 1.3**\n",
        "  The cell state of LSTM is\n",
        "$$\n",
        "    \\textbf{c}_t = \\textbf{f}_t \\circ \\textbf{c}_{t-1} + \\textbf{i}_t \\circ \\tilde{\\textbf{c}}_t,\n",
        "$$\n",
        "the gradient of $\\textbf{c}_T$ with respect to $\\textbf{c}_1$ can be computed as follows:\n",
        "$$\n",
        "    \\begin{align*}\n",
        "        \\textbf{g}_T\n",
        "        &= \\frac{\\partial \\textbf{c}_T}{\\partial \\textbf{c}_1} \\\\\n",
        "        &= \\frac{\\partial \\textbf{c}_T}{\\partial \\textbf{c}_{T-1}} \\cdot \\frac{\\partial \\textbf{c}_{T-1}}{\\partial \\textbf{c}_{T-2}} \\cdots \\frac{\\partial \\textbf{c}_2}{\\partial \\textbf{c}_{1}} \\\\\n",
        "        &= \\textbf{f}_T \\cdot \\textbf{f}_{T-1} \\cdots \\textbf{f}_{2} \\\\\n",
        "        &= \\prod_{i=2}^T \\textbf{f}_{i},\n",
        "    \\end{align*}\n",
        "$$\n",
        "where $\\textbf{f}_t = \\sigma_g\\left(\\textbf{W}_f\\textbf{x}_t + \\textbf{U}_f\\textbf{h}_{t-1} + \\textbf{b}_f\\right)$ and $\\sigma_g$ is a sigmoid function. \n",
        "Since $\\textbf{f}_t$ is the output of the sigmoid function, the value of each element is bounded by $(0, 1)$,\n",
        "and this means the gradient remains if each $\\textbf{f}_t$ for $t = 2, \\cdots, T$ is close to $1$.\n",
        "The difference from RNN is that the gradient of RNN is proportional to the product of the same matrix $\\textbf{V}$ and the gradient of LSTM is the product of the different vectors $\\textbf{f}_t$.\n",
        "Therefore, the gradient of RNN vanishes exponentially, whereas LSTM does not."
      ]
    },
    {
      "cell_type": "markdown",
      "metadata": {
        "id": "S0AmoAT3wA1J"
      },
      "source": [
        "## 2. Creating Vocabulary from Training Data\n",
        "Creating the vocabulary is the first step for every natural language processing model. In this section, you will use Stanford Sentiment Treebank (SST), a popular dataset for sentiment classification, to create your vocabulary.\n",
        "\n",
        "### Obtaining SST via Hugging Face\n",
        "We will use `datasets` package offered by Hugging Face, which allows us to easily download various language datasets, including Stanford Sentiment Treebank.\n",
        "\n",
        "First, install the package:"
      ]
    },
    {
      "cell_type": "code",
      "execution_count": 2,
      "metadata": {
        "id": "YK0S_VTJxds4"
      },
      "outputs": [],
      "source": [
        "try:\n",
        "    import datasets\n",
        "except ImportError:\n",
        "    !pip install datasets"
      ]
    },
    {
      "cell_type": "markdown",
      "metadata": {
        "id": "Y8eWbt2yxb3H"
      },
      "source": [
        "Then download SST and print the first example:"
      ]
    },
    {
      "cell_type": "code",
      "execution_count": 3,
      "metadata": {
        "id": "6drFIvgxxjgI",
        "outputId": "97e67c7b-d981-4d9f-ea2c-b332b467ff39"
      },
      "outputs": [
        {
          "name": "stderr",
          "output_type": "stream",
          "text": [
            "No config specified, defaulting to: sst/default\n",
            "Reusing dataset sst (/root/.cache/huggingface/datasets/sst/default/1.0.0/b8a7889ef01c5d3ae8c379b84cc4080f8aad3ac2bc538701cbe0ac6416fb76ff)\n"
          ]
        },
        {
          "name": "stdout",
          "output_type": "stream",
          "text": [
            "Sentence: \"The Rock is destined to be the 21st Century 's new `` Conan '' and that he 's going to make a splash even greater than Arnold Schwarzenegger , Jean-Claud Van Damme or Steven Segal .\"\n",
            "Label:    0.694440\n"
          ]
        }
      ],
      "source": [
        "from datasets import load_dataset\n",
        "\n",
        "sst = load_dataset(\"sst\")\n",
        "train0 = sst[\"train\"][0]\n",
        "print(f\"Sentence: \\\"{train0['sentence']}\\\"\")\n",
        "print(f\"Label:    {train0['label']:.6f}\")"
      ]
    },
    {
      "cell_type": "markdown",
      "metadata": {
        "id": "uAVQyYWkxib6"
      },
      "source": [
        "Note that each `label` is a score between 0 and 1. You will round it to either 0 or 1 for binary classification (positive for 1, negative for 0).\n",
        "In this first example, the label is rounded to 1, meaning that the sentence is a positive review.\n",
        "You will only use `sentence` as the input; please ignore other values."
      ]
    },
    {
      "cell_type": "markdown",
      "metadata": {
        "id": "2s0T6qk6x78s"
      },
      "source": [
        "> **Problem 2.1** *(2 points)* Using space tokenizer, create the vocabulary for the training data and report the vocabulary size here. Make sure that you add an `UNK` token to the vocabulary to account for words (during inference time) that you haven't seen. See below for an example with a short text."
      ]
    },
    {
      "cell_type": "code",
      "execution_count": 4,
      "metadata": {
        "id": "_iCTn95_pK7i",
        "outputId": "a2c7544c-a157-41b5-f627-ab82e8941c5d"
      },
      "outputs": [
        {
          "name": "stdout",
          "output_type": "stream",
          "text": [
            "Number of tokens: 18280\n",
            "Number of vocabs: 18282\n",
            "ID of 'star': 15904\n"
          ]
        }
      ],
      "source": [
        "# Space tokenization\n",
        "words = [word for data in sst[\"train\"] for word in data[\"sentence\"].split(\" \")]\n",
        "tokens = sorted(list(set(words)))  # to ensure reproducibility (set doesn't guarantee order)\n",
        "print(f\"Number of tokens: {len(tokens)}\")\n",
        "\n",
        "# Constructing vocabulary with `UNK`\n",
        "vocab = [\"PAD\", \"UNK\"] + tokens\n",
        "word2id = {word: word_id for word_id, word in enumerate(vocab)}\n",
        "print(f\"Number of vocabs: {len(vocab)}\")\n",
        "print(f\"ID of 'star': {word2id['star']}\")"
      ]
    },
    {
      "cell_type": "markdown",
      "metadata": {
        "id": "sqVv57zy1OZ0"
      },
      "source": [
        "> **Problem 2.2** *(1 point)* Using all words in the training data will make the vocabulary very big. Reduce its size by only including words that occur at least 2 times. How does the size of the vocabulary change?"
      ]
    },
    {
      "cell_type": "code",
      "execution_count": 5,
      "metadata": {
        "id": "lcvG4076gXm2",
        "outputId": "2a566934-bab1-46c4-ac1d-e9250ef40190"
      },
      "outputs": [
        {
          "name": "stdout",
          "output_type": "stream",
          "text": [
            "Number of tokens: 8736\n",
            "Number of vocabs: 8738\n",
            "ID of 'star': 2308\n"
          ]
        }
      ],
      "source": [
        "# Include words that occur at least 2 times\n",
        "tokens = [token for token, count in Counter(words).items() if count >= 2]\n",
        "print(f\"Number of tokens: {len(tokens)}\")\n",
        "\n",
        "# Constructing vocabulary with `UNK`\n",
        "vocab = [\"PAD\", \"UNK\"] + tokens\n",
        "word2id = {word: word_id for word_id, word in enumerate(vocab)}\n",
        "print(f\"Number of vocabs: {len(vocab)}\")\n",
        "print(f\"ID of 'star': {word2id['star']}\")"
      ]
    },
    {
      "cell_type": "markdown",
      "metadata": {
        "id": "nDQbmM3W2Im3"
      },
      "source": [
        "## 3. Text Classification with Multi-Layer Perceptron and Recurrent Neural Network\n",
        "\n",
        "You can now use the vocabulary constructed from the training data to create an embedding matrix. You will use the embedding matrix to map each input sequence of tokens to a list of embedding vectors. One of the simplest baseline is to fix the input length (with truncation of padding), flatten the word embeddings, apply a linear transformation followed by an activation, and finally classify the output into the two classes: "
      ]
    },
    {
      "cell_type": "code",
      "execution_count": 6,
      "metadata": {
        "id": "VE2q4E5hgXm3"
      },
      "outputs": [],
      "source": [
        "words = [word.lower() for data in sst[\"train\"] for word in re.split(r\"\\W+\", data[\"sentence\"]) if word]\n",
        "tokens = [token for token, count in Counter(words).items() if count >= 2]\n",
        "vocab = [\"pad\", \"unk\"] + tokens\n",
        "word2id = {word: word_id for word_id, word in enumerate(vocab)}"
      ]
    },
    {
      "cell_type": "code",
      "execution_count": 7,
      "metadata": {
        "id": "wbliSaslgXm3"
      },
      "outputs": [],
      "source": [
        "def tokenize(sentence, length):\n",
        "    tokens = [word for word in re.split(r\"\\W+\", sentence.lower()) if word]\n",
        "    tokens = (tokens + [\"pad\"] * (length - len(tokens)))[:length]\n",
        "    return tokens\n",
        "\n",
        "def binarize(label):\n",
        "    return 1 if label > 0.5 else 0\n",
        "\n",
        "def preprocess(sentences, labels, length):\n",
        "    x = [tokenize(sentence, length) for sentence in sentences]\n",
        "    y = [binarize(label) for label in labels]\n",
        "    return x, y"
      ]
    },
    {
      "cell_type": "markdown",
      "metadata": {
        "id": "Krgbm8hFgXm3"
      },
      "source": [
        "Let's see the examples:"
      ]
    },
    {
      "cell_type": "code",
      "execution_count": 8,
      "metadata": {
        "id": "dRUZCiT8gXm3",
        "outputId": "fb836ac4-5489-4c55-a6b6-413daf0229cf"
      },
      "outputs": [
        {
          "name": "stdout",
          "output_type": "stream",
          "text": [
            "What a nice day! -> tensor([[266,  18, 297, 591,   0,   0,   0,   0]])\n"
          ]
        }
      ],
      "source": [
        "length = 8\n",
        "input_sentence = \"What a nice day!\"\n",
        "input_tensor = torch.LongTensor([[\n",
        "    word2id.get(token, 1) for token in tokenize(input_sentence, length)\n",
        "]])  # the first dimension is minibatch size\n",
        "print(f\"{input_sentence} -> {input_tensor}\")"
      ]
    },
    {
      "cell_type": "code",
      "execution_count": 9,
      "metadata": {
        "id": "ysnnDDCJgXm3"
      },
      "outputs": [],
      "source": [
        "class ModelBase(nn.Sequential):\n",
        "    def __init__(self, hiddens, dim, embed=None):\n",
        "        super().__init__(*(([] if embed is None else [nn.Embedding(len(embed), dim)])\n",
        "                         + (hiddens if type(hiddens) is list else [hiddens])\n",
        "                         + [nn.ReLU(), nn.Linear(dim, 2)]))"
      ]
    },
    {
      "cell_type": "code",
      "execution_count": 10,
      "metadata": {
        "id": "C5rlzmaRgXm3"
      },
      "outputs": [],
      "source": [
        "class MLPModel(ModelBase):\n",
        "    def __init__(self, dim, length, embed=None):\n",
        "        super().__init__([\n",
        "            nn.Flatten(),\n",
        "            nn.Linear(dim * length, dim),\n",
        "        ], dim, embed)"
      ]
    },
    {
      "cell_type": "code",
      "execution_count": 11,
      "metadata": {
        "id": "3vUmITCFqMit",
        "outputId": "b44b017d-0bd0-45a8-9e73-38a6cfe15612"
      },
      "outputs": [
        {
          "name": "stdout",
          "output_type": "stream",
          "text": [
            "softmax logits: tensor([[0.6985, 0.3015]])\n"
          ]
        }
      ],
      "source": [
        "torch.manual_seed(19)\n",
        "baseline = MLPModel(dim=3, length=length, embed=vocab)  # dim is usually bigger, e.g. 128\n",
        "logits = baseline(input_tensor)\n",
        "print(f\"softmax logits: {F.softmax(logits, dim=1).detach()}\")  # probability for each class"
      ]
    },
    {
      "cell_type": "markdown",
      "metadata": {
        "id": "G9UuMWCG9YNs"
      },
      "source": [
        "Now we will compute the loss, which is the negative log probability of the input text's label being the target label (`1`), which in fact turns out to be equivalent to the [cross entropy](https://en.wikipedia.org/wiki/Cross_entropy) between the probability distribution and a one-hot distribution of the target label (note that we use `logits` instead of `softmax(logits)` as the input to the cross entropy, which allow us to avoid numerical instability). "
      ]
    },
    {
      "cell_type": "code",
      "execution_count": 12,
      "metadata": {
        "id": "6nxgYNzQqaPJ",
        "outputId": "f1bed8df-a8f2-4836-ee6e-253dde9ec321"
      },
      "outputs": [
        {
          "name": "stdout",
          "output_type": "stream",
          "text": [
            "loss: 1.198835\n"
          ]
        }
      ],
      "source": [
        "ce = nn.CrossEntropyLoss()\n",
        "label = torch.LongTensor([1])  # The ground truth label for \"What a nice day!\" is positive.\n",
        "loss = ce(logits, label)  # Loss, a.k.a L\n",
        "print(f\"loss: {loss.detach():.6f}\")"
      ]
    },
    {
      "cell_type": "markdown",
      "metadata": {
        "id": "IKR99jZ2-wZW"
      },
      "source": [
        "Once we have the loss defined, only one step remains! We compute the gradients of parameters with respective to the loss and update. Fortunately, PyTorch does this for us in a very convenient way. Note that we used only one example to update the model, which is basically a Stochastic Gradient Descent (SGD) with minibatch size of 1. A recommended minibatch size in this exercise is at least 16. It is also recommended that you reuse your training data at least 10 times (i.e. 10 *epochs*)."
      ]
    },
    {
      "cell_type": "code",
      "execution_count": 13,
      "metadata": {
        "id": "w8JjhgQ071d6"
      },
      "outputs": [],
      "source": [
        "optimizer = torch.optim.SGD(baseline.parameters(), lr=0.1)\n",
        "optimizer.zero_grad()  # reset process\n",
        "loss.backward()  # compute gradients\n",
        "optimizer.step()  # update parameters"
      ]
    },
    {
      "cell_type": "markdown",
      "metadata": {
        "id": "t8M0fhFf_LbG"
      },
      "source": [
        "Once you have done this, all weight parameters will have `grad` attributes that contain their gradients with respect to the loss."
      ]
    },
    {
      "cell_type": "code",
      "execution_count": 14,
      "metadata": {
        "id": "bPEb6DWrgXm4",
        "outputId": "a2dea42a-3af7-4783-f79f-cee1d1ab10ec"
      },
      "outputs": [
        {
          "name": "stdout",
          "output_type": "stream",
          "text": [
            "tensor([[-0.0000, -0.0000, -0.0000,  0.0000, -0.0000, -0.0000,  0.0000,  0.0000,\n",
            "          0.0000,  0.0000,  0.0000,  0.0000,  0.0000, -0.0000, -0.0000,  0.0000,\n",
            "         -0.0000, -0.0000,  0.0000, -0.0000, -0.0000,  0.0000, -0.0000, -0.0000],\n",
            "        [-0.0022, -0.0209, -0.0229,  0.0020, -0.0056, -0.0060,  0.0074,  0.0346,\n",
            "          0.0035,  0.0151,  0.0065,  0.0169,  0.0153, -0.0066, -0.0034,  0.0153,\n",
            "         -0.0066, -0.0034,  0.0153, -0.0066, -0.0034,  0.0153, -0.0066, -0.0034],\n",
            "        [-0.0000, -0.0000, -0.0000,  0.0000, -0.0000, -0.0000,  0.0000,  0.0000,\n",
            "          0.0000,  0.0000,  0.0000,  0.0000,  0.0000, -0.0000, -0.0000,  0.0000,\n",
            "         -0.0000, -0.0000,  0.0000, -0.0000, -0.0000,  0.0000, -0.0000, -0.0000]])\n"
          ]
        }
      ],
      "source": [
        "print(baseline[2].weight.grad)"
      ]
    },
    {
      "cell_type": "markdown",
      "metadata": {
        "id": "aK9ISjj4gXm4"
      },
      "source": [
        "Now, define the helper class to train the model and get the data loaders"
      ]
    },
    {
      "cell_type": "code",
      "execution_count": 15,
      "metadata": {
        "id": "1pOnKyz-gXm4"
      },
      "outputs": [],
      "source": [
        "class Trainer:\n",
        "    def __init__(self, model, optimizer):\n",
        "        self.model = model\n",
        "        self.optimizer = optimizer\n",
        "        self.criterion = nn.CrossEntropyLoss()\n",
        "        \n",
        "    def train_epoch(self, dataloader):\n",
        "        self.model.train()\n",
        "        moving_loss = None\n",
        "        for x_batch, y_batch in dataloader:\n",
        "            logits = self.model(x_batch)\n",
        "            loss = self.criterion(logits, y_batch)\n",
        "            moving_loss = (loss.detach() if moving_loss is None else\n",
        "                           0.2 * moving_loss + 0.8 * loss.detach())\n",
        "            self.optimizer.zero_grad()  # reset process\n",
        "            loss.backward()  # compute gradients\n",
        "            self.optimizer.step()  # update parameters\n",
        "        return moving_loss\n",
        "    \n",
        "    def test_epoch(self, dataloader):\n",
        "        with torch.no_grad():\n",
        "            self.model.eval()\n",
        "            correct, total = 0, 0\n",
        "            for x_batch, y_batch in dataloader:\n",
        "                logits = self.model(x_batch)\n",
        "                y_pred = torch.argmax(logits, dim=1)\n",
        "                correct += torch.sum(y_pred == y_batch).item()\n",
        "                total += len(y_batch)\n",
        "            return correct * 100 / total\n",
        "        \n",
        "    def train(self, train_loader, valid_loader, epochs=10, print_every=10):\n",
        "        print(f\"{self.model.__class__.__name__}\")\n",
        "        best_acc = 0.\n",
        "        for i in range(epochs):\n",
        "            train_loss = self.train_epoch(train_loader)\n",
        "            if (i + 1) % print_every == 0:\n",
        "                train_acc = self.test_epoch(train_loader)\n",
        "                valid_acc = self.test_epoch(valid_loader)\n",
        "                print(f\"Epoch {i+1:3d}: Train Loss {train_loss:.6f}, \"\n",
        "                      f\"Train Acc: {train_acc:.2f}, Valid Acc: {valid_acc:.2f}\")\n",
        "                best_acc = max(best_acc, valid_acc)\n",
        "        print(f\"Best Valid Acc: {best_acc:.2f}%\")"
      ]
    },
    {
      "cell_type": "code",
      "execution_count": 16,
      "metadata": {
        "id": "0Vpys1nwgXm5"
      },
      "outputs": [],
      "source": [
        "def get_dataloader(x, y, x_trans, y_trans, batch_size, shuffle):\n",
        "    dataset = TensorDataset(torch.vstack([x_trans(x_item) for x_item in x]),\n",
        "                            torch.cat([y_trans(y_item) for y_item in y]))\n",
        "    dataloader = DataLoader(dataset, batch_size=batch_size, shuffle=shuffle)\n",
        "    return dataloader"
      ]
    },
    {
      "cell_type": "code",
      "execution_count": 17,
      "metadata": {
        "id": "c0d7IDbIgXm5"
      },
      "outputs": [],
      "source": [
        "length = 32\n",
        "batch_size = 128\n",
        "\n",
        "unk_id = word2id[\"unk\"]\n",
        "x2long = lambda x_item: torch.LongTensor([word2id.get(token, unk_id) for token in x_item]).to(device)\n",
        "y2long = lambda y_item: torch.LongTensor([y_item]).to(device)\n",
        "\n",
        "sst_train, sst_valid = sst[\"train\"], sst[\"validation\"]\n",
        "\n",
        "x_train, y_train = preprocess(sst_train[\"sentence\"], sst_train[\"label\"], length)\n",
        "x_valid, y_valid = preprocess(sst_valid[\"sentence\"], sst_valid[\"label\"], length)\n",
        "\n",
        "train_loader = get_dataloader(x_train, y_train, x2long, y2long, batch_size, shuffle=True)\n",
        "valid_loader = get_dataloader(x_valid, y_valid, x2long, y2long, batch_size, shuffle=False)"
      ]
    },
    {
      "cell_type": "markdown",
      "metadata": {
        "id": "W-O9D26U_aEB"
      },
      "source": [
        "> **Problem 3.1** *(2 points)* Properly train a MLP baseline model on SST and report the model's accuracy on the dev data."
      ]
    },
    {
      "cell_type": "code",
      "execution_count": 18,
      "metadata": {
        "id": "SWfzO7SKgXm5",
        "outputId": "8c1fb304-bac7-4e2f-9aa6-8871b4ba8180"
      },
      "outputs": [
        {
          "name": "stdout",
          "output_type": "stream",
          "text": [
            "MLPModel\n",
            "Epoch  10: Train Loss 0.322388, Train Acc: 89.30, Valid Acc: 55.77\n",
            "Epoch  20: Train Loss 0.165132, Train Acc: 97.34, Valid Acc: 57.95\n",
            "Epoch  30: Train Loss 0.106883, Train Acc: 98.60, Valid Acc: 58.67\n",
            "Epoch  40: Train Loss 0.059070, Train Acc: 99.88, Valid Acc: 60.85\n",
            "Epoch  50: Train Loss 0.037730, Train Acc: 99.73, Valid Acc: 62.31\n",
            "Epoch  60: Train Loss 0.024387, Train Acc: 99.95, Valid Acc: 65.49\n",
            "Epoch  70: Train Loss 0.035860, Train Acc: 99.59, Valid Acc: 63.94\n",
            "Epoch  80: Train Loss 0.022126, Train Acc: 99.98, Valid Acc: 66.21\n",
            "Epoch  90: Train Loss 0.027626, Train Acc: 99.65, Valid Acc: 63.03\n",
            "Epoch 100: Train Loss 0.042715, Train Acc: 99.81, Valid Acc: 65.58\n",
            "Best Valid Acc: 66.21%\n"
          ]
        }
      ],
      "source": [
        "torch.manual_seed(19)\n",
        "model = MLPModel(dim=64, length=length, embed=vocab).to(device)\n",
        "Trainer(\n",
        "    model, torch.optim.Adam(model.parameters(), lr=1e-3, weight_decay=7e-4),\n",
        ").train(train_loader, valid_loader, epochs=100)"
      ]
    },
    {
      "cell_type": "markdown",
      "metadata": {
        "id": "CNjl-YFNgXm5"
      },
      "source": [
        "> **Problem 3.2** *(2 points)* Implement a recurrent neural network (without using PyTorch's RNN module) where the output of the linear layer not only depends on the current input but also the previous output. Report the model's accuracy on the dev data."
      ]
    },
    {
      "cell_type": "code",
      "execution_count": 19,
      "metadata": {
        "id": "kjAhnYtngXm6"
      },
      "outputs": [],
      "source": [
        "class RNNCell(nn.Module):\n",
        "    def __init__(self, in_features, hidden_features):\n",
        "        super().__init__()\n",
        "        self.V = nn.Linear(hidden_features, hidden_features, bias=False)\n",
        "        self.U = nn.Linear(in_features, hidden_features)\n",
        "        self.tanh = nn.Tanh()\n",
        "        \n",
        "    def forward(self, h, x):\n",
        "        h = self.tanh(self.V(h) + self.U(x))\n",
        "        return h"
      ]
    },
    {
      "cell_type": "code",
      "execution_count": 20,
      "metadata": {
        "id": "Cx9BN3kPgXm6"
      },
      "outputs": [],
      "source": [
        "class RNN(nn.Module):\n",
        "    def __init__(self, in_features, hidden_features, num_layers):\n",
        "        super().__init__()\n",
        "        self.hidden_features = hidden_features\n",
        "        self.layers = nn.ModuleList([\n",
        "            RNNCell((in_features if i == 0 else hidden_features), hidden_features)\n",
        "            for i in range(num_layers)\n",
        "        ])\n",
        "        self.W = nn.Linear(hidden_features, hidden_features)\n",
        "            \n",
        "    def forward(self, x):\n",
        "        h = [torch.zeros((x.shape[0], self.hidden_features), device=x.device)\n",
        "             for _ in range(len(self.layers))]\n",
        "        for t in range(x.shape[1]):\n",
        "            xt = x[:, t, :]\n",
        "            for i, layer in enumerate(self.layers):\n",
        "                h[i] = layer(h[i], h[i - 1] if i > 0 else xt)\n",
        "        o = self.W(h[-1])\n",
        "        return o"
      ]
    },
    {
      "cell_type": "code",
      "execution_count": 21,
      "metadata": {
        "id": "w_mjWPd-gXm6"
      },
      "outputs": [],
      "source": [
        "class RNNModel(ModelBase):\n",
        "    def __init__(self, dim, embed=None):\n",
        "        super().__init__(RNN(dim, dim, 1), dim, embed)"
      ]
    },
    {
      "cell_type": "code",
      "execution_count": 22,
      "metadata": {
        "id": "qmHVq8dWgXm6",
        "outputId": "7efd781f-7bbb-400f-9bf0-3e3897d9e03d"
      },
      "outputs": [
        {
          "name": "stdout",
          "output_type": "stream",
          "text": [
            "RNNModel\n",
            "Epoch  10: Train Loss 0.645090, Train Acc: 53.15, Valid Acc: 50.41\n",
            "Epoch  20: Train Loss 0.640592, Train Acc: 54.39, Valid Acc: 51.14\n",
            "Epoch  30: Train Loss 0.625174, Train Acc: 55.65, Valid Acc: 49.50\n",
            "Epoch  40: Train Loss 0.591905, Train Acc: 59.74, Valid Acc: 50.50\n",
            "Epoch  50: Train Loss 0.513830, Train Acc: 66.06, Valid Acc: 47.50\n",
            "Epoch  60: Train Loss 0.198416, Train Acc: 96.42, Valid Acc: 52.86\n",
            "Epoch  70: Train Loss 0.012408, Train Acc: 99.18, Valid Acc: 52.13\n",
            "Epoch  80: Train Loss 0.017013, Train Acc: 99.23, Valid Acc: 50.77\n",
            "Epoch  90: Train Loss 0.034220, Train Acc: 99.73, Valid Acc: 51.50\n",
            "Epoch 100: Train Loss 0.065246, Train Acc: 99.57, Valid Acc: 50.86\n",
            "Best Valid Acc: 52.86%\n"
          ]
        }
      ],
      "source": [
        "torch.manual_seed(19)\n",
        "model = RNNModel(dim=64, embed=vocab).to(device)\n",
        "Trainer(\n",
        "    model, torch.optim.Adam(model.parameters(), lr=1e-3, weight_decay=7e-4),\n",
        ").train(train_loader, valid_loader, epochs=100)"
      ]
    },
    {
      "cell_type": "markdown",
      "metadata": {
        "id": "VisMKn3-gXm7"
      },
      "source": [
        "> **Problem 3.3** *(2 points)* Show that the cross entropy computed above is equivalent to the negative log likelihood of the probability distribution."
      ]
    },
    {
      "cell_type": "markdown",
      "metadata": {
        "id": "kCBozAk6gXm7"
      },
      "source": [
        "> **Solution 3.3**\n",
        "  The negative log likelihood $\\text{NLL}$ of the probability distribution $p$ given parameters $\\theta$ is,\n",
        "$$\n",
        "    \\begin{align*}\n",
        "        \\text{NLL}(\\theta | x)\n",
        "        &= -\\frac{1}{N} \\log \\mathbb{P}_\\theta(X=x) \\\\\n",
        "        &= -\\frac{1}{N} \\log \\prod_{x\\in\\mathcal{X}} q_\\theta(x)^{Np(x)} \\\\\n",
        "        &= -\\frac{1}{N} \\sum_{x\\in\\mathcal{X}} \\log q_\\theta(x)^{Np(x)} \\\\\n",
        "        &= -\\sum_{x\\in\\mathcal{X}} p(x) \\log q_\\theta(x) \\\\\n",
        "        &= H(p, q)\n",
        "    \\end{align*}\n",
        "$$\n",
        "where $H(p, q)$ is the cross entropy.\n",
        "So, the cross entropy is equivalent to the negative log likelihood."
      ]
    },
    {
      "cell_type": "markdown",
      "metadata": {
        "id": "6EBqnDIfgXm7"
      },
      "source": [
        "> **Problem 3.4 (bonus)** *(1 points)* Why is it numerically unstable if you compute log on top of softmax?"
      ]
    },
    {
      "cell_type": "markdown",
      "metadata": {
        "id": "l8mjkMFtgXm7"
      },
      "source": [
        "> **Solution 3.4**\n",
        "  The softmax is defined as:\n",
        "$$\n",
        "    \\sigma(\\textbf{z})_k = \\frac{e^{z_k}}{\\sum_{i=1}^K e^{z_i}} \\qquad\n",
        "    \\text{for } k = 1, 2, \\cdots, K \\text{ and } \\textbf{z} = (z_1, \\cdots, z_k) \\in \\mathbb{R}^K.\n",
        "$$\n",
        "Let $c$ is the maximum value of elements in $\\mathbf{z}$, which means,\n",
        "$$\n",
        "    c = \\max_{1 \\le i \\le K} z_i.\n",
        "$$\n",
        "Then, $\\mathbf{z}$ can be written as:\n",
        "$$\n",
        "    \\begin{align*}\n",
        "        \\textbf{z}\n",
        "        &= (z_1, \\cdots, z_k) \\\\\n",
        "        &= \\left(c + (z_1 - c), \\cdots, c + (z_k - c)\\right).\n",
        "    \\end{align*}\n",
        "$$\n",
        "The log of the softmax $\\textbf{z}$ can be computed as:\n",
        "$$\n",
        "    \\begin{align*}\n",
        "        \\log\\sigma(\\textbf{z})\n",
        "        &= \\log\\left(\\frac{e^{z_1}}{\\sum_{i=1}^K e^{z_i}}, \\cdots, \\frac{e^{z_K}}{\\sum_{i=1}^K e^{z_i}}\\right) \\\\\n",
        "        &= \\log\\left(\\frac{e^{z_1 - c}}{\\sum_{i=1}^K e^{z_i - c}}, \\cdots, \\frac{e^{z_K - c}}{\\sum_{i=1}^K e^{z_i - c}}\\right) \\\\\n",
        "        &= \\left(\\log\\frac{e^{z_1 - c}}{\\sum_{i=1}^K e^{z_i - c}}, \\cdots, \\log\\frac{e^{z_K - c}}{\\sum_{i=1}^K e^{z_i - c}}\\right).\n",
        "    \\end{align*}\n",
        "$$\n",
        "Note that $\\sum_{i=1}^K e^{z_i - c} \\ge 1$ because there exists $e^{c-c} = e^0 = 1$ when $z_k = c$.\n",
        "Now, let $d$ is the minimum value of elements in $\\mathbf{z}$, which means,\n",
        "$$\n",
        "    d = \\min_{1 \\le j \\le K} z_j.\n",
        "$$\n",
        "Then, as $d - c \\to -\\infty$, $e^{d-c} \\to 0$ and $\\frac{e^{d-c}}{\\sum_{i=1}^K e^{z_i - c}} \\to 0$.\n",
        "This gives $\\log\\frac{e^{d-c}}{\\sum_{i=1}^K e^{z_i - c}} \\to -\\infty$ in the result of the log of the softmax $\\textbf{z}$, which makes numerically unstable."
      ]
    },
    {
      "cell_type": "markdown",
      "metadata": {
        "id": "PBLmpKJRAd1h"
      },
      "source": [
        "## 4. Text Classification with LSTM and Dropout\n",
        "\n",
        "Replace your RNN module with an LSTM module. See Lecture slides 05 and 06 for the formal definition of LSTMs. \n",
        "\n",
        "You will also use Dropout, which randomly makes each dimension zero with the probability of `p` and scale it by `1/(1-p)` if it is not zero during training.\n",
        "Put it either at the input or the output of the LSTM to prevent it from overfitting."
      ]
    },
    {
      "cell_type": "code",
      "execution_count": 23,
      "metadata": {
        "id": "sDOVWYN8gXm8"
      },
      "outputs": [],
      "source": [
        "class LSTMCell(nn.Module):\n",
        "    def __init__(self, in_features, hidden_features):\n",
        "        super().__init__()\n",
        "        self.Vf = nn.Linear(hidden_features, hidden_features, bias=False)\n",
        "        self.Vi = nn.Linear(hidden_features, hidden_features, bias=False)\n",
        "        self.Vo = nn.Linear(hidden_features, hidden_features, bias=False)\n",
        "        self.Vc = nn.Linear(hidden_features, hidden_features, bias=False)\n",
        "        self.Uf = nn.Linear(in_features, hidden_features)\n",
        "        self.Ui = nn.Linear(in_features, hidden_features)\n",
        "        self.Uo = nn.Linear(in_features, hidden_features)\n",
        "        self.Uc = nn.Linear(in_features, hidden_features)\n",
        "        self.tanh = nn.Tanh()\n",
        "        self.sigmoid = nn.Sigmoid()\n",
        "        \n",
        "    def forward(self, h, c, x):\n",
        "        f = self.sigmoid(self.Vf(h) + self.Uf(x))\n",
        "        i = self.sigmoid(self.Vi(h) + self.Ui(x))\n",
        "        o = self.sigmoid(self.Vo(h) + self.Uo(x))\n",
        "        c_ = self.tanh(self.Vc(h) + self.Uc(x))\n",
        "        c = f * c + i * c_\n",
        "        h = o * self.tanh(c)\n",
        "        return h, c"
      ]
    },
    {
      "cell_type": "code",
      "execution_count": 24,
      "metadata": {
        "id": "R8H0F-csCCk0"
      },
      "outputs": [],
      "source": [
        "class LSTM(nn.Module):\n",
        "    def __init__(self, in_features, hidden_features, dropout=0, num_layers=1, bidirectional=False):\n",
        "        super().__init__()\n",
        "        self.bidirectional = bidirectional\n",
        "        self.hidden_features = hidden_features\n",
        "        self.layers = nn.ModuleList([\n",
        "            LSTMCell((hidden_features if i > 0 else in_features), hidden_features)\n",
        "            for i in range(num_layers)\n",
        "        ])\n",
        "        self.dropouts = nn.ModuleList([\n",
        "            nn.Dropout(dropout) if dropout > 0 else nn.Identity()\n",
        "            for _ in range(num_layers)\n",
        "        ])\n",
        "        self.W = nn.Linear(hidden_features * (2 if bidirectional else 1), hidden_features)\n",
        "            \n",
        "    def forward(self, x):\n",
        "        x_seq = range(x.shape[1])\n",
        "        hs = []\n",
        "        for seq in [x_seq, reversed(x_seq)] if self.bidirectional else [x_seq]:\n",
        "            h = [torch.zeros((x.shape[0], self.hidden_features), device=x.device)\n",
        "                for _ in range(len(self.layers))]\n",
        "            c = [torch.zeros((x.shape[0], self.hidden_features), device=x.device)\n",
        "                for _ in range(len(self.layers))]\n",
        "            for t in seq:\n",
        "                xt = x[:, t, :]\n",
        "                for i in range(len(self.layers)):\n",
        "                    h_ = (self.dropouts[i - 1](h[i - 1]) if i > 0 else xt)\n",
        "                    h[i], c[i] = self.layers[i](h[i], c[i], h_)\n",
        "            hs.append(h[-1])\n",
        "        h = torch.cat(hs, dim=1)\n",
        "        o = self.W(self.dropouts[-1](h))\n",
        "        return o"
      ]
    },
    {
      "cell_type": "markdown",
      "metadata": {
        "id": "G6boSxKjC4Mw"
      },
      "source": [
        "> **Problem 4.1** *(3 points)* Implement and use LSTM (without using PyTorch's LSTM module) instead of vanilla RNN. Report the accuracy on the dev data."
      ]
    },
    {
      "cell_type": "code",
      "execution_count": 25,
      "metadata": {
        "id": "iwvVxnK8gXm8"
      },
      "outputs": [],
      "source": [
        "class LSTMModel(ModelBase):\n",
        "    def __init__(self, dim, embed=None):\n",
        "        super().__init__(LSTM(dim, dim), dim, embed)"
      ]
    },
    {
      "cell_type": "code",
      "execution_count": 26,
      "metadata": {
        "id": "IVvo8-QngXm9",
        "outputId": "b932874a-3e79-4e54-b9f7-d1e00993553a"
      },
      "outputs": [
        {
          "name": "stdout",
          "output_type": "stream",
          "text": [
            "LSTMModel\n",
            "Epoch  10: Train Loss 0.690026, Train Acc: 50.33, Valid Acc: 49.32\n",
            "Epoch  20: Train Loss 0.688016, Train Acc: 50.56, Valid Acc: 50.59\n",
            "Epoch  30: Train Loss 0.690925, Train Acc: 51.67, Valid Acc: 50.05\n",
            "Epoch  40: Train Loss 0.685361, Train Acc: 52.86, Valid Acc: 49.68\n",
            "Epoch  50: Train Loss 0.643789, Train Acc: 53.71, Valid Acc: 50.68\n",
            "Epoch  60: Train Loss 0.235452, Train Acc: 94.10, Valid Acc: 72.84\n",
            "Epoch  70: Train Loss 0.127913, Train Acc: 97.20, Valid Acc: 71.75\n",
            "Epoch  80: Train Loss 0.101538, Train Acc: 98.01, Valid Acc: 71.03\n",
            "Epoch  90: Train Loss 0.057607, Train Acc: 98.30, Valid Acc: 70.66\n",
            "Epoch 100: Train Loss 0.085226, Train Acc: 98.48, Valid Acc: 70.48\n",
            "Best Valid Acc: 72.84%\n"
          ]
        }
      ],
      "source": [
        "torch.manual_seed(19)\n",
        "model = LSTMModel(dim=64, embed=vocab).to(device)\n",
        "Trainer(\n",
        "    model, torch.optim.Adam(model.parameters(), lr=1e-3, weight_decay=7e-4),\n",
        ").train(train_loader, valid_loader, epochs=100)"
      ]
    },
    {
      "cell_type": "markdown",
      "metadata": {
        "id": "2yT3r_IQgXm9"
      },
      "source": [
        "> **Problem 4.2** *(2 points)* Use Dropout on LSTM (either at input or output). Report the accuracy on the dev data."
      ]
    },
    {
      "cell_type": "code",
      "execution_count": 27,
      "metadata": {
        "id": "a0nb7zLBgXm9"
      },
      "outputs": [],
      "source": [
        "class LSTMDropoutModel(ModelBase):\n",
        "    def __init__(self, dim, dropout, embed=None):\n",
        "        super().__init__(LSTM(dim, dim, dropout), dim, embed)"
      ]
    },
    {
      "cell_type": "code",
      "execution_count": 28,
      "metadata": {
        "id": "VMm3jVDwgXm9",
        "outputId": "76574a80-6462-48d0-bff3-d8827bda7180"
      },
      "outputs": [
        {
          "name": "stdout",
          "output_type": "stream",
          "text": [
            "LSTMDropoutModel\n",
            "Epoch  10: Train Loss 0.691325, Train Acc: 50.33, Valid Acc: 49.32\n",
            "Epoch  20: Train Loss 0.687287, Train Acc: 50.33, Valid Acc: 49.32\n",
            "Epoch  30: Train Loss 0.691723, Train Acc: 51.40, Valid Acc: 50.41\n",
            "Epoch  40: Train Loss 0.687274, Train Acc: 52.52, Valid Acc: 50.23\n",
            "Epoch  50: Train Loss 0.660254, Train Acc: 55.26, Valid Acc: 50.95\n",
            "Epoch  60: Train Loss 0.144474, Train Acc: 95.88, Valid Acc: 70.75\n",
            "Epoch  70: Train Loss 0.089596, Train Acc: 98.13, Valid Acc: 72.30\n",
            "Epoch  80: Train Loss 0.099995, Train Acc: 98.64, Valid Acc: 70.30\n",
            "Epoch  90: Train Loss 0.104280, Train Acc: 98.77, Valid Acc: 69.57\n",
            "Epoch 100: Train Loss 0.061152, Train Acc: 98.34, Valid Acc: 69.85\n",
            "Best Valid Acc: 72.30%\n"
          ]
        }
      ],
      "source": [
        "torch.manual_seed(19)\n",
        "model = LSTMDropoutModel(dim=64, dropout=0.3, embed=vocab).to(device)\n",
        "Trainer(\n",
        "    model, torch.optim.Adam(model.parameters(), lr=1e-3, weight_decay=7e-4),\n",
        ").train(train_loader, valid_loader, epochs=100)"
      ]
    },
    {
      "cell_type": "markdown",
      "metadata": {
        "id": "4ijfqNbXgXm9"
      },
      "source": [
        "> **Problem 4.3 (bonus)** *(2 points)* Consider implementing bidirectional LSTM and two layers of LSTM. Report your accuracy on dev data."
      ]
    },
    {
      "cell_type": "code",
      "execution_count": 29,
      "metadata": {
        "id": "x0gAFCsSgXm9"
      },
      "outputs": [],
      "source": [
        "class LSTMBidirectionalModel(ModelBase):\n",
        "    def __init__(self, dim, embed=None):\n",
        "        super().__init__(LSTM(dim, dim, bidirectional=True), dim, embed)"
      ]
    },
    {
      "cell_type": "code",
      "execution_count": 30,
      "metadata": {
        "id": "XQVb_lWxgXm9",
        "outputId": "7e5e7ca3-b637-4980-d009-fba4fcf8fcae"
      },
      "outputs": [
        {
          "name": "stdout",
          "output_type": "stream",
          "text": [
            "LSTMBidirectionalModel\n",
            "Epoch  10: Train Loss 0.448450, Train Acc: 81.02, Valid Acc: 68.94\n",
            "Epoch  20: Train Loss 0.242369, Train Acc: 93.64, Valid Acc: 69.48\n",
            "Epoch  30: Train Loss 0.054993, Train Acc: 98.77, Valid Acc: 69.12\n",
            "Epoch  40: Train Loss 0.042721, Train Acc: 99.65, Valid Acc: 71.21\n",
            "Epoch  50: Train Loss 0.047925, Train Acc: 99.18, Valid Acc: 71.48\n",
            "Epoch  60: Train Loss 0.032370, Train Acc: 99.11, Valid Acc: 69.94\n",
            "Epoch  70: Train Loss 0.036121, Train Acc: 98.96, Valid Acc: 70.84\n",
            "Epoch  80: Train Loss 0.021599, Train Acc: 99.59, Valid Acc: 70.21\n",
            "Epoch  90: Train Loss 0.008167, Train Acc: 99.94, Valid Acc: 69.66\n",
            "Epoch 100: Train Loss 0.023611, Train Acc: 99.73, Valid Acc: 70.75\n",
            "Best Valid Acc: 71.48%\n"
          ]
        }
      ],
      "source": [
        "torch.manual_seed(19)\n",
        "model = LSTMBidirectionalModel(dim=64, embed=vocab).to(device)\n",
        "Trainer(\n",
        "    model, torch.optim.Adam(model.parameters(), lr=1e-3, weight_decay=7e-4),\n",
        ").train(train_loader, valid_loader, epochs=100)"
      ]
    },
    {
      "cell_type": "code",
      "execution_count": 31,
      "metadata": {
        "id": "nxfiM_5igXm-"
      },
      "outputs": [],
      "source": [
        "class LSTMTwoLayerModel(ModelBase):\n",
        "    def __init__(self, dim, embed=None):\n",
        "        super().__init__(LSTM(dim, dim, num_layers=2), dim, embed)"
      ]
    },
    {
      "cell_type": "code",
      "execution_count": 32,
      "metadata": {
        "id": "T-pGtbeHgXm-",
        "outputId": "61905d72-cbb6-4028-ca34-51b1099cecc6"
      },
      "outputs": [
        {
          "name": "stdout",
          "output_type": "stream",
          "text": [
            "LSTMTwoLayerModel\n",
            "Epoch  10: Train Loss 0.677605, Train Acc: 54.88, Valid Acc: 51.50\n",
            "Epoch  20: Train Loss 0.257917, Train Acc: 94.29, Valid Acc: 71.48\n",
            "Epoch  30: Train Loss 0.086907, Train Acc: 97.07, Valid Acc: 71.30\n",
            "Epoch  40: Train Loss 0.075478, Train Acc: 97.78, Valid Acc: 71.84\n",
            "Epoch  50: Train Loss 0.036275, Train Acc: 98.82, Valid Acc: 68.39\n",
            "Epoch  60: Train Loss 0.010863, Train Acc: 99.66, Valid Acc: 68.94\n",
            "Epoch  70: Train Loss 0.001042, Train Acc: 99.89, Valid Acc: 70.12\n",
            "Epoch  80: Train Loss 0.003824, Train Acc: 99.78, Valid Acc: 70.30\n",
            "Epoch  90: Train Loss 0.001627, Train Acc: 99.95, Valid Acc: 70.57\n",
            "Epoch 100: Train Loss 0.088498, Train Acc: 99.23, Valid Acc: 69.57\n",
            "Best Valid Acc: 71.84%\n"
          ]
        }
      ],
      "source": [
        "torch.manual_seed(19)\n",
        "model = LSTMTwoLayerModel(dim=64, embed=vocab).to(device)\n",
        "Trainer(\n",
        "    model, torch.optim.Adam(model.parameters(), lr=1e-3, weight_decay=1e-4),\n",
        ").train(train_loader, valid_loader, epochs=100)"
      ]
    },
    {
      "cell_type": "markdown",
      "metadata": {
        "id": "855DrT78DXps"
      },
      "source": [
        "## 5. Pretrained Word Vectors\n",
        "The last step is to use pretrained vocabulary and word vectors. The prebuilt vocabulary will replace the vocabulary you built with SST training data, and the word vectors will replace the embedding vectors. You will observe the power of leveraging self-supservised pretrained models."
      ]
    },
    {
      "cell_type": "markdown",
      "metadata": {
        "id": "4z1J8N-1gXm-"
      },
      "source": [
        "> **Problem 5.1 (bonus)** *(2 points)* Go to https://nlp.stanford.edu/projects/glove/ and download `glove.6B.zip`. Use these pretrained word vectors to replace word embeddings in your model from 4.2. Report the model's accuracy on the dev data."
      ]
    },
    {
      "cell_type": "code",
      "execution_count": 33,
      "metadata": {
        "id": "P0gyCMUrgXm-"
      },
      "outputs": [],
      "source": [
        "from urllib import request\n",
        "import zipfile\n",
        "\n",
        "if not os.path.exists(\"glove/glove.6B.100d.txt\"):\n",
        "    os.makedirs(\"glove\", exist_ok=True)\n",
        "    print(\"Downloading glove.6B.zip\")\n",
        "    request.urlretrieve(\"http://nlp.stanford.edu/data/glove.6B.zip\", \"glove/glove.6B.zip\")\n",
        "    with zipfile.ZipFile(\"glove/glove.6B.zip\", \"r\") as zipf:\n",
        "        zipf.extractall(\"glove\")"
      ]
    },
    {
      "cell_type": "code",
      "execution_count": 34,
      "metadata": {
        "id": "tyge_iawgXm-"
      },
      "outputs": [],
      "source": [
        "dim = 50\n",
        "\n",
        "with open(f\"glove/glove.6B.{dim}d.txt\", \"r\") as glove:\n",
        "    glove_map = map(lambda line: line.split(), glove.readlines())\n",
        "    word2vec = {word: list(map(float, vec)) for word, *vec in glove_map}\n",
        "\n",
        "unk_vec = word2vec[\"unk\"]\n",
        "x2vec = lambda x_item: torch.Tensor([[word2vec.get(token, unk_vec) for token in x_item]]).to(device)\n",
        "\n",
        "glove_train_loader = get_dataloader(x_train, y_train, x2vec, y2long, batch_size, shuffle=True)\n",
        "glove_valid_loader = get_dataloader(x_valid, y_valid, x2vec, y2long, batch_size, shuffle=False)"
      ]
    },
    {
      "cell_type": "code",
      "execution_count": 35,
      "metadata": {
        "id": "ePaI40CggXm-",
        "outputId": "4ee5841c-6799-4cbc-b2c3-6c394955f265"
      },
      "outputs": [
        {
          "name": "stdout",
          "output_type": "stream",
          "text": [
            "MLPModel\n",
            "Epoch  10: Train Loss 0.403562, Train Acc: 78.80, Valid Acc: 65.67\n",
            "Epoch  20: Train Loss 0.378033, Train Acc: 86.39, Valid Acc: 68.30\n",
            "Epoch  30: Train Loss 0.322711, Train Acc: 91.42, Valid Acc: 66.12\n",
            "Epoch  40: Train Loss 0.189466, Train Acc: 94.22, Valid Acc: 68.66\n",
            "Epoch  50: Train Loss 0.143744, Train Acc: 96.76, Valid Acc: 66.85\n",
            "Epoch  60: Train Loss 0.094514, Train Acc: 98.22, Valid Acc: 67.67\n",
            "Epoch  70: Train Loss 0.103640, Train Acc: 98.78, Valid Acc: 67.57\n",
            "Epoch  80: Train Loss 0.119256, Train Acc: 98.82, Valid Acc: 65.30\n",
            "Epoch  90: Train Loss 0.072094, Train Acc: 99.47, Valid Acc: 67.03\n",
            "Epoch 100: Train Loss 0.056376, Train Acc: 99.53, Valid Acc: 67.57\n",
            "Best Valid Acc: 68.66%\n"
          ]
        }
      ],
      "source": [
        "torch.manual_seed(19)\n",
        "model = MLPModel(dim=dim, length=length).to(device)\n",
        "Trainer(\n",
        "    model, torch.optim.Adam(model.parameters(), lr=5e-4, weight_decay=3e-3),\n",
        ").train(glove_train_loader, glove_valid_loader, epochs=100)"
      ]
    },
    {
      "cell_type": "code",
      "execution_count": 36,
      "metadata": {
        "id": "-rWsu29JgXm_",
        "outputId": "8f58d815-1e4c-4949-999b-974d402dd9b7"
      },
      "outputs": [
        {
          "name": "stdout",
          "output_type": "stream",
          "text": [
            "RNNModel\n",
            "Epoch  10: Train Loss 0.694586, Train Acc: 51.58, Valid Acc: 50.23\n",
            "Epoch  20: Train Loss 0.613806, Train Acc: 69.49, Valid Acc: 68.76\n",
            "Epoch  30: Train Loss 0.546628, Train Acc: 70.58, Valid Acc: 68.66\n",
            "Epoch  40: Train Loss 0.602340, Train Acc: 71.98, Valid Acc: 69.12\n",
            "Epoch  50: Train Loss 0.546888, Train Acc: 73.07, Valid Acc: 69.12\n",
            "Epoch  60: Train Loss 0.502023, Train Acc: 70.24, Valid Acc: 65.85\n",
            "Epoch  70: Train Loss 0.498196, Train Acc: 73.69, Valid Acc: 68.94\n",
            "Epoch  80: Train Loss 0.582686, Train Acc: 75.63, Valid Acc: 71.75\n",
            "Epoch  90: Train Loss 0.461066, Train Acc: 76.87, Valid Acc: 70.84\n",
            "Epoch 100: Train Loss 0.533453, Train Acc: 77.00, Valid Acc: 72.39\n",
            "Best Valid Acc: 72.39%\n"
          ]
        }
      ],
      "source": [
        "torch.manual_seed(19)\n",
        "model = RNNModel(dim=dim).to(device)\n",
        "Trainer(\n",
        "    model, torch.optim.Adam(model.parameters(), lr=3e-4),\n",
        ").train(glove_train_loader, glove_valid_loader, epochs=100)"
      ]
    },
    {
      "cell_type": "code",
      "execution_count": 37,
      "metadata": {
        "id": "2jt8NvTegXm_",
        "outputId": "489eae50-1f02-4e6e-8e34-c7feaa599a4d"
      },
      "outputs": [
        {
          "name": "stdout",
          "output_type": "stream",
          "text": [
            "LSTMModel\n",
            "Epoch  10: Train Loss 0.596871, Train Acc: 69.62, Valid Acc: 70.84\n",
            "Epoch  20: Train Loss 0.503496, Train Acc: 72.62, Valid Acc: 72.30\n",
            "Epoch  30: Train Loss 0.538801, Train Acc: 75.77, Valid Acc: 74.30\n",
            "Epoch  40: Train Loss 0.448008, Train Acc: 77.65, Valid Acc: 72.84\n",
            "Epoch  50: Train Loss 0.470757, Train Acc: 78.75, Valid Acc: 73.75\n",
            "Epoch  60: Train Loss 0.416706, Train Acc: 80.62, Valid Acc: 73.84\n",
            "Epoch  70: Train Loss 0.299589, Train Acc: 81.62, Valid Acc: 74.30\n",
            "Epoch  80: Train Loss 0.280359, Train Acc: 83.11, Valid Acc: 74.02\n",
            "Epoch  90: Train Loss 0.385639, Train Acc: 80.11, Valid Acc: 73.84\n",
            "Epoch 100: Train Loss 0.383262, Train Acc: 85.32, Valid Acc: 74.93\n",
            "Best Valid Acc: 74.93%\n"
          ]
        }
      ],
      "source": [
        "torch.manual_seed(19)\n",
        "model = LSTMModel(dim=dim).to(device)\n",
        "Trainer(\n",
        "    model, torch.optim.Adam(model.parameters(), lr=3e-4),\n",
        ").train(glove_train_loader, glove_valid_loader, epochs=100)"
      ]
    },
    {
      "cell_type": "code",
      "execution_count": 38,
      "metadata": {
        "id": "scI5XfR3xdIl",
        "outputId": "6848ecff-7746-4f5b-dae8-8bca4306f4a0"
      },
      "outputs": [
        {
          "name": "stdout",
          "output_type": "stream",
          "text": [
            "LSTMDropoutModel\n",
            "Epoch  10: Train Loss 0.639923, Train Acc: 68.16, Valid Acc: 69.03\n",
            "Epoch  20: Train Loss 0.520845, Train Acc: 72.12, Valid Acc: 73.30\n",
            "Epoch  30: Train Loss 0.544825, Train Acc: 75.71, Valid Acc: 73.93\n",
            "Epoch  40: Train Loss 0.438084, Train Acc: 74.73, Valid Acc: 70.84\n",
            "Epoch  50: Train Loss 0.454220, Train Acc: 78.78, Valid Acc: 73.84\n",
            "Epoch  60: Train Loss 0.437089, Train Acc: 80.37, Valid Acc: 73.30\n",
            "Epoch  70: Train Loss 0.314890, Train Acc: 81.62, Valid Acc: 73.48\n",
            "Epoch  80: Train Loss 0.331174, Train Acc: 82.96, Valid Acc: 73.84\n",
            "Epoch  90: Train Loss 0.346455, Train Acc: 82.95, Valid Acc: 74.30\n",
            "Epoch 100: Train Loss 0.358120, Train Acc: 85.81, Valid Acc: 72.93\n",
            "Best Valid Acc: 74.30%\n"
          ]
        }
      ],
      "source": [
        "torch.manual_seed(19)\n",
        "model = LSTMDropoutModel(dim=dim, dropout=0.3).to(device)\n",
        "Trainer(\n",
        "    model, torch.optim.Adam(model.parameters(), lr=3e-4),\n",
        ").train(glove_train_loader, glove_valid_loader, epochs=100)"
      ]
    },
    {
      "cell_type": "code",
      "execution_count": 39,
      "metadata": {
        "id": "HGTlo2j8xdIl",
        "outputId": "a7cd8822-241a-417b-8b99-fd55d73e3f5b"
      },
      "outputs": [
        {
          "name": "stdout",
          "output_type": "stream",
          "text": [
            "LSTMBidirectionalModel\n",
            "Epoch  10: Train Loss 0.658043, Train Acc: 71.49, Valid Acc: 68.48\n",
            "Epoch  20: Train Loss 0.486678, Train Acc: 75.80, Valid Acc: 73.02\n",
            "Epoch  30: Train Loss 0.438268, Train Acc: 78.29, Valid Acc: 75.75\n",
            "Epoch  40: Train Loss 0.420359, Train Acc: 80.09, Valid Acc: 75.57\n",
            "Epoch  50: Train Loss 0.390116, Train Acc: 81.68, Valid Acc: 75.02\n",
            "Epoch  60: Train Loss 0.371564, Train Acc: 84.12, Valid Acc: 75.02\n",
            "Epoch  70: Train Loss 0.311193, Train Acc: 85.12, Valid Acc: 73.57\n",
            "Epoch  80: Train Loss 0.270903, Train Acc: 87.91, Valid Acc: 73.66\n",
            "Epoch  90: Train Loss 0.262891, Train Acc: 89.35, Valid Acc: 73.30\n",
            "Epoch 100: Train Loss 0.236179, Train Acc: 91.03, Valid Acc: 72.93\n",
            "Best Valid Acc: 75.75%\n"
          ]
        }
      ],
      "source": [
        "torch.manual_seed(19)\n",
        "model = LSTMBidirectionalModel(dim=dim).to(device)\n",
        "Trainer(\n",
        "    model, torch.optim.Adam(model.parameters(), lr=3e-4),\n",
        ").train(glove_train_loader, glove_valid_loader, epochs=100)"
      ]
    },
    {
      "cell_type": "code",
      "execution_count": 40,
      "metadata": {
        "id": "aRxXlqF1xdIl",
        "outputId": "4162f966-5bd9-4a28-df56-de1daf4fd127"
      },
      "outputs": [
        {
          "name": "stdout",
          "output_type": "stream",
          "text": [
            "LSTMTwoLayerModel\n",
            "Epoch  10: Train Loss 0.584000, Train Acc: 70.61, Valid Acc: 71.93\n",
            "Epoch  20: Train Loss 0.486187, Train Acc: 74.50, Valid Acc: 72.12\n",
            "Epoch  30: Train Loss 0.440720, Train Acc: 76.72, Valid Acc: 74.11\n",
            "Epoch  40: Train Loss 0.497369, Train Acc: 78.12, Valid Acc: 73.84\n",
            "Epoch  50: Train Loss 0.392846, Train Acc: 80.58, Valid Acc: 74.75\n",
            "Epoch  60: Train Loss 0.403120, Train Acc: 81.87, Valid Acc: 74.48\n",
            "Epoch  70: Train Loss 0.311465, Train Acc: 80.63, Valid Acc: 73.21\n",
            "Epoch  80: Train Loss 0.365286, Train Acc: 84.59, Valid Acc: 74.93\n",
            "Epoch  90: Train Loss 0.363596, Train Acc: 84.13, Valid Acc: 73.57\n",
            "Epoch 100: Train Loss 0.358913, Train Acc: 83.87, Valid Acc: 73.84\n",
            "Best Valid Acc: 74.93%\n"
          ]
        }
      ],
      "source": [
        "torch.manual_seed(19)\n",
        "model = LSTMTwoLayerModel(dim=dim).to(device)\n",
        "Trainer(\n",
        "    model, torch.optim.Adam(model.parameters(), lr=3e-4),\n",
        ").train(glove_train_loader, glove_valid_loader, epochs=100)"
      ]
    }
  ],
  "metadata": {
    "accelerator": "GPU",
    "colab": {
      "collapsed_sections": [],
      "name": "KAIST-AI605-Text-Classification.ipynb",
      "provenance": []
    },
    "interpreter": {
      "hash": "079e1d936214edc7fbe1e2fed26ad4d929fce657ec3c52ac3aa017c206c26a5b"
    },
    "kernelspec": {
      "display_name": "Python 3.7.12 64-bit",
      "name": "python3"
    },
    "language_info": {
      "codemirror_mode": {
        "name": "ipython",
        "version": 3
      },
      "file_extension": ".py",
      "mimetype": "text/x-python",
      "name": "python",
      "nbconvert_exporter": "python",
      "pygments_lexer": "ipython3",
      "version": "3.7.12"
    },
    "widgets": {
      "application/vnd.jupyter.widget-state+json": {
        "0e902cc27073423bb7081479809b0bc7": {
          "model_module": "@jupyter-widgets/controls",
          "model_module_version": "1.5.0",
          "model_name": "ProgressStyleModel",
          "state": {
            "_model_module": "@jupyter-widgets/controls",
            "_model_module_version": "1.5.0",
            "_model_name": "ProgressStyleModel",
            "_view_count": null,
            "_view_module": "@jupyter-widgets/base",
            "_view_module_version": "1.2.0",
            "_view_name": "StyleView",
            "bar_color": null,
            "description_width": ""
          }
        },
        "120098fcd2da4674b0a1ceb73106f9ec": {
          "model_module": "@jupyter-widgets/base",
          "model_module_version": "1.2.0",
          "model_name": "LayoutModel",
          "state": {
            "_model_module": "@jupyter-widgets/base",
            "_model_module_version": "1.2.0",
            "_model_name": "LayoutModel",
            "_view_count": null,
            "_view_module": "@jupyter-widgets/base",
            "_view_module_version": "1.2.0",
            "_view_name": "LayoutView",
            "align_content": null,
            "align_items": null,
            "align_self": null,
            "border": null,
            "bottom": null,
            "display": null,
            "flex": null,
            "flex_flow": null,
            "grid_area": null,
            "grid_auto_columns": null,
            "grid_auto_flow": null,
            "grid_auto_rows": null,
            "grid_column": null,
            "grid_gap": null,
            "grid_row": null,
            "grid_template_areas": null,
            "grid_template_columns": null,
            "grid_template_rows": null,
            "height": null,
            "justify_content": null,
            "justify_items": null,
            "left": null,
            "margin": null,
            "max_height": null,
            "max_width": null,
            "min_height": null,
            "min_width": null,
            "object_fit": null,
            "object_position": null,
            "order": null,
            "overflow": null,
            "overflow_x": null,
            "overflow_y": null,
            "padding": null,
            "right": null,
            "top": null,
            "visibility": null,
            "width": null
          }
        },
        "52a6ba1f7077466eb36b736f28c274c9": {
          "model_module": "@jupyter-widgets/controls",
          "model_module_version": "1.5.0",
          "model_name": "DescriptionStyleModel",
          "state": {
            "_model_module": "@jupyter-widgets/controls",
            "_model_module_version": "1.5.0",
            "_model_name": "DescriptionStyleModel",
            "_view_count": null,
            "_view_module": "@jupyter-widgets/base",
            "_view_module_version": "1.2.0",
            "_view_name": "StyleView",
            "description_width": ""
          }
        },
        "5e874f22db8e46e6b19ac91e8bf902dd": {
          "model_module": "@jupyter-widgets/controls",
          "model_module_version": "1.5.0",
          "model_name": "DescriptionStyleModel",
          "state": {
            "_model_module": "@jupyter-widgets/controls",
            "_model_module_version": "1.5.0",
            "_model_name": "DescriptionStyleModel",
            "_view_count": null,
            "_view_module": "@jupyter-widgets/base",
            "_view_module_version": "1.2.0",
            "_view_name": "StyleView",
            "description_width": ""
          }
        },
        "98d848db32284bdf9296eb4284458f6b": {
          "model_module": "@jupyter-widgets/controls",
          "model_module_version": "1.5.0",
          "model_name": "HBoxModel",
          "state": {
            "_dom_classes": [],
            "_model_module": "@jupyter-widgets/controls",
            "_model_module_version": "1.5.0",
            "_model_name": "HBoxModel",
            "_view_count": null,
            "_view_module": "@jupyter-widgets/controls",
            "_view_module_version": "1.5.0",
            "_view_name": "HBoxView",
            "box_style": "",
            "children": [
              "IPY_MODEL_bfcf41b8485d4884b1f4b3b1451c2e0e",
              "IPY_MODEL_d7c9f5d3f75a432299e1ffbd6b114275",
              "IPY_MODEL_a4943f74c86e47e99d10ec356b240421"
            ],
            "layout": "IPY_MODEL_9b3fa46197664aafb5978d1a5dbd5def"
          }
        },
        "9b3fa46197664aafb5978d1a5dbd5def": {
          "model_module": "@jupyter-widgets/base",
          "model_module_version": "1.2.0",
          "model_name": "LayoutModel",
          "state": {
            "_model_module": "@jupyter-widgets/base",
            "_model_module_version": "1.2.0",
            "_model_name": "LayoutModel",
            "_view_count": null,
            "_view_module": "@jupyter-widgets/base",
            "_view_module_version": "1.2.0",
            "_view_name": "LayoutView",
            "align_content": null,
            "align_items": null,
            "align_self": null,
            "border": null,
            "bottom": null,
            "display": null,
            "flex": null,
            "flex_flow": null,
            "grid_area": null,
            "grid_auto_columns": null,
            "grid_auto_flow": null,
            "grid_auto_rows": null,
            "grid_column": null,
            "grid_gap": null,
            "grid_row": null,
            "grid_template_areas": null,
            "grid_template_columns": null,
            "grid_template_rows": null,
            "height": null,
            "justify_content": null,
            "justify_items": null,
            "left": null,
            "margin": null,
            "max_height": null,
            "max_width": null,
            "min_height": null,
            "min_width": null,
            "object_fit": null,
            "object_position": null,
            "order": null,
            "overflow": null,
            "overflow_x": null,
            "overflow_y": null,
            "padding": null,
            "right": null,
            "top": null,
            "visibility": null,
            "width": null
          }
        },
        "a4943f74c86e47e99d10ec356b240421": {
          "model_module": "@jupyter-widgets/controls",
          "model_module_version": "1.5.0",
          "model_name": "HTMLModel",
          "state": {
            "_dom_classes": [],
            "_model_module": "@jupyter-widgets/controls",
            "_model_module_version": "1.5.0",
            "_model_name": "HTMLModel",
            "_view_count": null,
            "_view_module": "@jupyter-widgets/controls",
            "_view_module_version": "1.5.0",
            "_view_name": "HTMLView",
            "description": "",
            "description_tooltip": null,
            "layout": "IPY_MODEL_120098fcd2da4674b0a1ceb73106f9ec",
            "placeholder": "​",
            "style": "IPY_MODEL_52a6ba1f7077466eb36b736f28c274c9",
            "value": " 3/3 [00:00&lt;00:00, 48.24it/s]"
          }
        },
        "bfcf41b8485d4884b1f4b3b1451c2e0e": {
          "model_module": "@jupyter-widgets/controls",
          "model_module_version": "1.5.0",
          "model_name": "HTMLModel",
          "state": {
            "_dom_classes": [],
            "_model_module": "@jupyter-widgets/controls",
            "_model_module_version": "1.5.0",
            "_model_name": "HTMLModel",
            "_view_count": null,
            "_view_module": "@jupyter-widgets/controls",
            "_view_module_version": "1.5.0",
            "_view_name": "HTMLView",
            "description": "",
            "description_tooltip": null,
            "layout": "IPY_MODEL_d9a0d2e3cda94675a92238eba6d9c0a5",
            "placeholder": "​",
            "style": "IPY_MODEL_5e874f22db8e46e6b19ac91e8bf902dd",
            "value": "100%"
          }
        },
        "d162c0599d0a451bb42b6909dc79ed72": {
          "model_module": "@jupyter-widgets/base",
          "model_module_version": "1.2.0",
          "model_name": "LayoutModel",
          "state": {
            "_model_module": "@jupyter-widgets/base",
            "_model_module_version": "1.2.0",
            "_model_name": "LayoutModel",
            "_view_count": null,
            "_view_module": "@jupyter-widgets/base",
            "_view_module_version": "1.2.0",
            "_view_name": "LayoutView",
            "align_content": null,
            "align_items": null,
            "align_self": null,
            "border": null,
            "bottom": null,
            "display": null,
            "flex": null,
            "flex_flow": null,
            "grid_area": null,
            "grid_auto_columns": null,
            "grid_auto_flow": null,
            "grid_auto_rows": null,
            "grid_column": null,
            "grid_gap": null,
            "grid_row": null,
            "grid_template_areas": null,
            "grid_template_columns": null,
            "grid_template_rows": null,
            "height": null,
            "justify_content": null,
            "justify_items": null,
            "left": null,
            "margin": null,
            "max_height": null,
            "max_width": null,
            "min_height": null,
            "min_width": null,
            "object_fit": null,
            "object_position": null,
            "order": null,
            "overflow": null,
            "overflow_x": null,
            "overflow_y": null,
            "padding": null,
            "right": null,
            "top": null,
            "visibility": null,
            "width": null
          }
        },
        "d7c9f5d3f75a432299e1ffbd6b114275": {
          "model_module": "@jupyter-widgets/controls",
          "model_module_version": "1.5.0",
          "model_name": "FloatProgressModel",
          "state": {
            "_dom_classes": [],
            "_model_module": "@jupyter-widgets/controls",
            "_model_module_version": "1.5.0",
            "_model_name": "FloatProgressModel",
            "_view_count": null,
            "_view_module": "@jupyter-widgets/controls",
            "_view_module_version": "1.5.0",
            "_view_name": "ProgressView",
            "bar_style": "success",
            "description": "",
            "description_tooltip": null,
            "layout": "IPY_MODEL_d162c0599d0a451bb42b6909dc79ed72",
            "max": 3,
            "min": 0,
            "orientation": "horizontal",
            "style": "IPY_MODEL_0e902cc27073423bb7081479809b0bc7",
            "value": 3
          }
        },
        "d9a0d2e3cda94675a92238eba6d9c0a5": {
          "model_module": "@jupyter-widgets/base",
          "model_module_version": "1.2.0",
          "model_name": "LayoutModel",
          "state": {
            "_model_module": "@jupyter-widgets/base",
            "_model_module_version": "1.2.0",
            "_model_name": "LayoutModel",
            "_view_count": null,
            "_view_module": "@jupyter-widgets/base",
            "_view_module_version": "1.2.0",
            "_view_name": "LayoutView",
            "align_content": null,
            "align_items": null,
            "align_self": null,
            "border": null,
            "bottom": null,
            "display": null,
            "flex": null,
            "flex_flow": null,
            "grid_area": null,
            "grid_auto_columns": null,
            "grid_auto_flow": null,
            "grid_auto_rows": null,
            "grid_column": null,
            "grid_gap": null,
            "grid_row": null,
            "grid_template_areas": null,
            "grid_template_columns": null,
            "grid_template_rows": null,
            "height": null,
            "justify_content": null,
            "justify_items": null,
            "left": null,
            "margin": null,
            "max_height": null,
            "max_width": null,
            "min_height": null,
            "min_width": null,
            "object_fit": null,
            "object_position": null,
            "order": null,
            "overflow": null,
            "overflow_x": null,
            "overflow_y": null,
            "padding": null,
            "right": null,
            "top": null,
            "visibility": null,
            "width": null
          }
        }
      }
    }
  },
  "nbformat": 4,
  "nbformat_minor": 0
}
