{
  "nbformat": 4,
  "nbformat_minor": 2,
  "metadata": {
    "colab": {
      "name": "KAIST AI605 Assignment 1.ipynb",
      "provenance": [],
      "collapsed_sections": [],
      "toc_visible": true
    },
    "kernelspec": {
      "name": "python3",
      "display_name": "Python 3.7.11 64-bit ('egyun-nlp': conda)"
    },
    "language_info": {
      "name": "python",
      "version": "3.7.11",
      "mimetype": "text/x-python",
      "codemirror_mode": {
        "name": "ipython",
        "version": 3
      },
      "pygments_lexer": "ipython3",
      "nbconvert_exporter": "python",
      "file_extension": ".py"
    },
    "interpreter": {
      "hash": "079e1d936214edc7fbe1e2fed26ad4d929fce657ec3c52ac3aa017c206c26a5b"
    }
  },
  "cells": [
    {
      "cell_type": "code",
      "execution_count": 1,
      "source": [
        "import os\n",
        "os.environ[\"CUDA_VISIBLE_DEVICES\"] = \"3\"\n",
        "\n",
        "import torch\n",
        "print(torch.cuda.is_available())"
      ],
      "outputs": [
        {
          "output_type": "stream",
          "name": "stdout",
          "text": [
            "True\n"
          ]
        }
      ],
      "metadata": {}
    },
    {
      "cell_type": "markdown",
      "source": [
        "# KAIST AI605 Assignment 1: Text Classification"
      ],
      "metadata": {
        "id": "mbGnNWI1lRy_"
      }
    },
    {
      "cell_type": "markdown",
      "source": [
        "## Environment\n",
        "You will only use Python 3.7 and PyTorch 1.9, which is already available on Colab:"
      ],
      "metadata": {}
    },
    {
      "cell_type": "code",
      "execution_count": 2,
      "source": [
        "from platform import python_version\n",
        "from pprint import pprint\n",
        "from collections import Counter\n",
        "import re\n",
        "\n",
        "import torch\n",
        "from torch import nn\n",
        "from torch.nn import functional as F\n",
        "from torch.utils.data import TensorDataset, DataLoader\n",
        "\n",
        "device = torch.device(\"cuda:0\" if torch.cuda.is_available() else \"cpu\")\n",
        "\n",
        "print(f\"python {python_version()}\")\n",
        "print(f\"torch {torch.__version__}\")"
      ],
      "outputs": [
        {
          "output_type": "stream",
          "name": "stdout",
          "text": [
            "python 3.7.11\n",
            "torch 1.9.0\n"
          ]
        }
      ],
      "metadata": {
        "colab": {
          "base_uri": "https://localhost:8080/"
        },
        "id": "kYxEp1XMpxem",
        "outputId": "f9954e7c-f362-40d5-af8e-d37856b71ed9"
      }
    },
    {
      "cell_type": "markdown",
      "source": [
        "## 1. Limitations of Vanilla RNNs\n",
        "In Lecture 02, we saw that a multi-layer perceptron (MLP) without activation function is equivalent to a single linear transformation with respect to the inputs. One can define a vanilla recurrent neural network without activation as, given inputs $\\textbf{x}_1 \\dots \\textbf{x}_T$, the outputs $\\textbf{h}_t$ is obtained by\n",
        "$$\\textbf{h}_t = \\textbf{V}\\textbf{h}_{t-1} + \\textbf{U}\\textbf{x}_t + \\textbf{b},$$\n",
        "where $\\textbf{V}, \\textbf{U}, \\textbf{b}$ are trainable weights."
      ],
      "metadata": {
        "id": "sB7xyzIgnnkA"
      }
    },
    {
      "cell_type": "markdown",
      "source": [
        "> **Problem 1.1** *(2 point)* Show that such recurrent neural network (RNN) without activation function is equivalent to a single linear transformation with respect to the inputs, which means each $\\textbf{h}_t$ is a linear combination of the inputs.\n",
        "\n",
        "In Lecture 05 and 06, we will see how RNNs can model non-linearity via activation function, but they still suffer from exploding or vanishing gradients. We can mathematically show that, if the recurrent relation is\n",
        "$$ \\textbf{h}_t = \\sigma (\\textbf{V}\\textbf{h}_{t-1} + \\textbf{U}\\textbf{x}_t + \\textbf{b}) $$\n",
        "then\n",
        "$$ \\frac{\\partial \\textbf{h}_t}{\\partial \\textbf{h}_{t-1}} = \\text{diag}(\\sigma' (\\textbf{V}\\textbf{h}_{t-1} + \\textbf{U}\\textbf{x}_t + \\textbf{b}))\\textbf{V}$$\n",
        "so\n",
        "$$\\frac{\\partial \\textbf{h}_T}{\\partial \\textbf{h}_1} \\propto \\textbf{V}^{T-1}$$\n",
        "which means this term will be very close to zero if the norm of $\\bf{V}$ is smaller than 1 and really big otherwise."
      ],
      "metadata": {}
    },
    {
      "cell_type": "markdown",
      "source": [
        "> **Problem 1.2** *(2 points)* Explain how exploding gradient can be mitigated if we use gradient clipping."
      ],
      "metadata": {}
    },
    {
      "cell_type": "markdown",
      "source": [
        "> **Problem 1.3** *(2 points)* Explain how vanishing gradient can be mitigated if we use LSTM. See the Lecture 05 and 06 slides for the definition of LSTM."
      ],
      "metadata": {}
    },
    {
      "cell_type": "markdown",
      "source": [
        "## 2. Creating Vocabulary from Training Data\n",
        "Creating the vocabulary is the first step for every natural language processing model. In this section, you will use Stanford Sentiment Treebank (SST), a popular dataset for sentiment classification, to create your vocabulary.\n",
        "\n",
        "### Obtaining SST via Hugging Face\n",
        "We will use `datasets` package offered by Hugging Face, which allows us to easily download various language datasets, including Stanford Sentiment Treebank.\n",
        "\n",
        "First, install the package:"
      ],
      "metadata": {
        "id": "S0AmoAT3wA1J"
      }
    },
    {
      "cell_type": "code",
      "execution_count": 3,
      "source": [
        "try:\n",
        "    import datasets\n",
        "except ImportError:\n",
        "    !pip install datasets"
      ],
      "outputs": [],
      "metadata": {
        "colab": {
          "base_uri": "https://localhost:8080/"
        },
        "id": "YK0S_VTJxds4",
        "outputId": "d8257280-f4f0-47df-c17b-9e37a5f27d09"
      }
    },
    {
      "cell_type": "markdown",
      "source": [
        "Then download SST and print the first example:"
      ],
      "metadata": {
        "id": "Y8eWbt2yxb3H"
      }
    },
    {
      "cell_type": "code",
      "execution_count": 4,
      "source": [
        "from datasets import load_dataset\n",
        "\n",
        "sst = load_dataset(\"sst\", \"default\")\n",
        "pprint(sst[\"train\"][0])"
      ],
      "outputs": [
        {
          "output_type": "stream",
          "name": "stderr",
          "text": [
            "Reusing dataset sst (/root/.cache/huggingface/datasets/sst/default/1.0.0/b8a7889ef01c5d3ae8c379b84cc4080f8aad3ac2bc538701cbe0ac6416fb76ff)\n"
          ]
        },
        {
          "output_type": "stream",
          "name": "stdout",
          "text": [
            "{'label': 0.6944400072097778,\n",
            " 'sentence': \"The Rock is destined to be the 21st Century 's new `` Conan '' \"\n",
            "             \"and that he 's going to make a splash even greater than Arnold \"\n",
            "             'Schwarzenegger , Jean-Claud Van Damme or Steven Segal .',\n",
            " 'tokens': \"The|Rock|is|destined|to|be|the|21st|Century|'s|new|``|Conan|''|and|that|he|'s|going|to|make|a|splash|even|greater|than|Arnold|Schwarzenegger|,|Jean-Claud|Van|Damme|or|Steven|Segal|.\",\n",
            " 'tree': '70|70|68|67|63|62|61|60|58|58|57|56|56|64|65|55|54|53|52|51|49|47|47|46|46|45|40|40|41|39|38|38|43|37|37|69|44|39|42|41|42|43|44|45|50|48|48|49|50|51|52|53|54|55|66|57|59|59|60|61|62|63|64|65|66|67|68|69|71|71|0'}\n"
          ]
        }
      ],
      "metadata": {
        "colab": {
          "base_uri": "https://localhost:8080/"
        },
        "id": "6drFIvgxxjgI",
        "outputId": "d903a062-ac0f-4da1-ec14-efd1d533c4f4"
      }
    },
    {
      "cell_type": "markdown",
      "source": [
        "Note that each `label` is a score between 0 and 1. You will round it to either 0 or 1 for binary classification (positive for 1, negative for 0).\n",
        "In this first example, the label is rounded to 1, meaning that the sentence is a positive review.\n",
        "You will only use `sentence` as the input; please ignore other values."
      ],
      "metadata": {
        "id": "uAVQyYWkxib6"
      }
    },
    {
      "cell_type": "markdown",
      "source": [
        "> **Problem 2.1** *(2 points)* Using space tokenizer, create the vocabulary for the training data and report the vocabulary size here. Make sure that you add an `UNK` token to the vocabulary to account for words (during inference time) that you haven't seen. See below for an example with a short text."
      ],
      "metadata": {
        "id": "2s0T6qk6x78s"
      }
    },
    {
      "cell_type": "code",
      "execution_count": 5,
      "source": [
        "# Space tokenization\n",
        "words = [word for data in sst[\"train\"] for word in data[\"sentence\"].split(\" \")]\n",
        "tokens = sorted(list(set(words)))  # to ensure reproducibility (set doesn't guarantee order)\n",
        "print(f\"Number of tokens: {len(tokens)}\")\n",
        "\n",
        "# Constructing vocabulary with `UNK`\n",
        "vocab = [\"PAD\", \"UNK\"] + tokens\n",
        "word2id = {word: word_id for word_id, word in enumerate(vocab)}\n",
        "print(f\"Number of vocabs: {len(vocab)}\")\n",
        "print(f\"ID of 'star': {word2id['star']}\")"
      ],
      "outputs": [
        {
          "output_type": "stream",
          "name": "stdout",
          "text": [
            "Number of tokens: 18280\n",
            "Number of vocabs: 18282\n",
            "ID of 'star': 15904\n"
          ]
        }
      ],
      "metadata": {
        "colab": {
          "base_uri": "https://localhost:8080/"
        },
        "id": "_iCTn95_pK7i",
        "outputId": "12664f20-5696-4530-bc6c-38029756143e"
      }
    },
    {
      "cell_type": "markdown",
      "source": [
        "> **Problem 2.2** *(1 point)* Using all words in the training data will make the vocabulary very big. Reduce its size by only including words that occur at least 2 times. How does the size of the vocabulary change?"
      ],
      "metadata": {
        "id": "sqVv57zy1OZ0"
      }
    },
    {
      "cell_type": "code",
      "execution_count": 6,
      "source": [
        "# Include words that occur at least 2 times\n",
        "tokens = [token for token, count in Counter(words).items() if count >= 2]\n",
        "print(f\"Number of tokens: {len(tokens)}\")\n",
        "\n",
        "# Constructing vocabulary with `UNK`\n",
        "vocab = [\"PAD\", \"UNK\"] + tokens\n",
        "word2id = {word: word_id for word_id, word in enumerate(vocab)}\n",
        "print(f\"Number of vocabs: {len(vocab)}\")\n",
        "print(f\"ID of 'star': {word2id['star']}\")"
      ],
      "outputs": [
        {
          "output_type": "stream",
          "name": "stdout",
          "text": [
            "Number of tokens: 8736\n",
            "Number of vocabs: 8738\n",
            "ID of 'star': 2308\n"
          ]
        }
      ],
      "metadata": {}
    },
    {
      "cell_type": "markdown",
      "source": [
        "## 3. Text Classification with Multi-Layer Perceptron and Recurrent Neural Network\n",
        "\n",
        "You can now use the vocabulary constructed from the training data to create an embedding matrix. You will use the embedding matrix to map each input sequence of tokens to a list of embedding vectors. One of the simplest baseline is to fix the input length (with truncation of padding), flatten the word embeddings, apply a linear transformation followed by an activation, and finally classify the output into the two classes: "
      ],
      "metadata": {
        "id": "nDQbmM3W2Im3"
      }
    },
    {
      "cell_type": "code",
      "execution_count": 7,
      "source": [
        "words = [word.lower() for data in sst[\"train\"] for word in re.split(r\"\\W+\", data[\"sentence\"]) if word]\n",
        "tokens = [token for token, count in Counter(words).items() if count >= 2]\n",
        "vocab = [\"pad\", \"unk\"] + tokens\n",
        "word2id = {word: word_id for word_id, word in enumerate(vocab)}"
      ],
      "outputs": [],
      "metadata": {}
    },
    {
      "cell_type": "code",
      "execution_count": 8,
      "source": [
        "def tokenize(sentence, length):\n",
        "    tokens = [word for word in re.split(r\"\\W+\", sentence.lower()) if word]\n",
        "    tokens = (tokens + [\"pad\"] * (length - len(tokens)))[:length]\n",
        "    return tokens\n",
        "\n",
        "def binarize(label):\n",
        "    return 1 if label > 0.5 else 0\n",
        "\n",
        "def preprocess(sentences, labels, length):\n",
        "    x = [tokenize(sentence, length) for sentence in sentences]\n",
        "    y = [binarize(label) for label in labels]\n",
        "    return x, y"
      ],
      "outputs": [],
      "metadata": {}
    },
    {
      "cell_type": "markdown",
      "source": [
        "Let's see the examples:"
      ],
      "metadata": {}
    },
    {
      "cell_type": "code",
      "execution_count": 9,
      "source": [
        "length = 8\n",
        "input_sentence = \"What a nice day!\"\n",
        "input_tensor = torch.LongTensor([[\n",
        "    word2id.get(token, 1) for token in tokenize(input_sentence, length)\n",
        "]])  # the first dimension is minibatch size\n",
        "print(f\"{input_sentence} -> {input_tensor}\")"
      ],
      "outputs": [
        {
          "output_type": "stream",
          "name": "stdout",
          "text": [
            "What a nice day! -> tensor([[266,  18, 297, 591,   0,   0,   0,   0]])\n"
          ]
        }
      ],
      "metadata": {}
    },
    {
      "cell_type": "code",
      "execution_count": 10,
      "source": [
        "class ModelBase(nn.Sequential):\n",
        "    def __init__(self, hiddens, dim, embed=None):\n",
        "        super().__init__(*(([] if embed is None else [nn.Embedding(len(embed), dim)])\n",
        "                         + (hiddens if type(hiddens) is list else [hiddens])\n",
        "                         + [nn.ReLU(), nn.Linear(dim, 2)]))"
      ],
      "outputs": [],
      "metadata": {}
    },
    {
      "cell_type": "code",
      "execution_count": 11,
      "source": [
        "class MLPModel(ModelBase):\n",
        "    def __init__(self, dim, length, embed=None):\n",
        "        super().__init__([\n",
        "            nn.Flatten(),\n",
        "            nn.Linear(dim * length, dim),\n",
        "        ], dim, embed)\n",
        "        \n",
        "torch.manual_seed(19)\n",
        "\n",
        "baseline = MLPModel(dim=3, length=length, embed=vocab)  # dim is usually bigger, e.g. 128\n",
        "logits = baseline(input_tensor)\n",
        "print(f\"softmax logits: {F.softmax(logits, dim=1).detach()}\")  # probability for each class"
      ],
      "outputs": [
        {
          "output_type": "stream",
          "name": "stdout",
          "text": [
            "softmax logits: tensor([[0.6985, 0.3015]])\n"
          ]
        }
      ],
      "metadata": {
        "colab": {
          "base_uri": "https://localhost:8080/"
        },
        "id": "3vUmITCFqMit",
        "outputId": "69762f39-e932-457c-f06b-bf78047a6c50"
      }
    },
    {
      "cell_type": "markdown",
      "source": [
        "Now we will compute the loss, which is the negative log probability of the input text's label being the target label (`1`), which in fact turns out to be equivalent to the cross entropy (https://en.wikipedia.org/wiki/Cross_entropy) between the probability distribution and a one-hot distribution of the target label (note that we use `logits` instead of `softmax(logits)` as the input to the cross entropy, which allow us to avoid numerical instability). "
      ],
      "metadata": {
        "id": "G9UuMWCG9YNs"
      }
    },
    {
      "cell_type": "code",
      "execution_count": 12,
      "source": [
        "ce = nn.CrossEntropyLoss()\n",
        "label = torch.LongTensor([1])  # The ground truth label for \"What a nice day!\" is positive.\n",
        "loss = ce(logits, label)  # Loss, a.k.a L\n",
        "print(f\"loss: {loss.detach():.6f}\")"
      ],
      "outputs": [
        {
          "output_type": "stream",
          "name": "stdout",
          "text": [
            "loss: 1.198835\n"
          ]
        }
      ],
      "metadata": {
        "id": "6nxgYNzQqaPJ",
        "colab": {
          "base_uri": "https://localhost:8080/"
        },
        "outputId": "2ce04c23-b72a-4127-fa07-3d796fc75366"
      }
    },
    {
      "cell_type": "markdown",
      "source": [
        "Once we have the loss defined, only one step remains! We compute the gradients of parameters with respective to the loss and update. Fortunately, PyTorch does this for us in a very convenient way. Note that we used only one example to update the model, which is basically a Stochastic Gradient Descent (SGD) with minibatch size of 1. A recommended minibatch size in this exercise is at least 16. It is also recommended that you reuse your training data at least 10 times (i.e. 10 *epochs*)."
      ],
      "metadata": {
        "id": "IKR99jZ2-wZW"
      }
    },
    {
      "cell_type": "code",
      "execution_count": 13,
      "source": [
        "optimizer = torch.optim.SGD(baseline.parameters(), lr=0.1)\n",
        "optimizer.zero_grad()  # reset process\n",
        "loss.backward()  # compute gradients\n",
        "optimizer.step()  # update parameters"
      ],
      "outputs": [],
      "metadata": {
        "id": "w8JjhgQ071d6"
      }
    },
    {
      "cell_type": "markdown",
      "source": [
        "Once you have done this, all weight parameters will have `grad` attributes that contain their gradients with respect to the loss."
      ],
      "metadata": {
        "id": "t8M0fhFf_LbG"
      }
    },
    {
      "cell_type": "code",
      "execution_count": 14,
      "source": [
        "print(baseline[2].weight.grad)"
      ],
      "outputs": [
        {
          "output_type": "stream",
          "name": "stdout",
          "text": [
            "tensor([[-0.0000, -0.0000, -0.0000,  0.0000, -0.0000, -0.0000,  0.0000,  0.0000,\n",
            "          0.0000,  0.0000,  0.0000,  0.0000,  0.0000, -0.0000, -0.0000,  0.0000,\n",
            "         -0.0000, -0.0000,  0.0000, -0.0000, -0.0000,  0.0000, -0.0000, -0.0000],\n",
            "        [-0.0022, -0.0209, -0.0229,  0.0020, -0.0056, -0.0060,  0.0074,  0.0346,\n",
            "          0.0035,  0.0151,  0.0065,  0.0169,  0.0153, -0.0066, -0.0034,  0.0153,\n",
            "         -0.0066, -0.0034,  0.0153, -0.0066, -0.0034,  0.0153, -0.0066, -0.0034],\n",
            "        [-0.0000, -0.0000, -0.0000,  0.0000, -0.0000, -0.0000,  0.0000,  0.0000,\n",
            "          0.0000,  0.0000,  0.0000,  0.0000,  0.0000, -0.0000, -0.0000,  0.0000,\n",
            "         -0.0000, -0.0000,  0.0000, -0.0000, -0.0000,  0.0000, -0.0000, -0.0000]])\n"
          ]
        }
      ],
      "metadata": {}
    },
    {
      "cell_type": "markdown",
      "source": [
        "Now, define the helper class to train the model and get the data loaders"
      ],
      "metadata": {}
    },
    {
      "cell_type": "code",
      "execution_count": 15,
      "source": [
        "class Trainer:\n",
        "    def __init__(self, model, optimizer):\n",
        "        self.model = model\n",
        "        self.optimizer = optimizer\n",
        "        self.criterion = nn.CrossEntropyLoss()\n",
        "        \n",
        "    def train_epoch(self, dataloader):\n",
        "        self.model.train()\n",
        "        moving_loss = None\n",
        "        for x_batch, y_batch in dataloader:\n",
        "            logits = self.model(x_batch)\n",
        "            loss = self.criterion(logits, y_batch)\n",
        "            moving_loss = (loss.detach() if moving_loss is None else\n",
        "                           0.2 * moving_loss + 0.8 * loss.detach())\n",
        "            self.optimizer.zero_grad()  # reset process\n",
        "            loss.backward()  # compute gradients\n",
        "            self.optimizer.step()  # update parameters\n",
        "        return moving_loss\n",
        "    \n",
        "    def test_epoch(self, dataloader):\n",
        "        with torch.no_grad():\n",
        "            self.model.eval()\n",
        "            correct, total = 0, 0\n",
        "            for x_batch, y_batch in dataloader:\n",
        "                logits = self.model(x_batch)\n",
        "                y_pred = torch.argmax(logits, dim=1)\n",
        "                correct += torch.sum(y_pred == y_batch).item()\n",
        "                total += len(y_batch)\n",
        "            return correct * 100 / total\n",
        "        \n",
        "    def train(self, train_loader, valid_loader, epochs=10, print_every=10):\n",
        "        print(f\"{self.model.__class__.__name__}\")\n",
        "        best_acc = 0.\n",
        "        for i in range(epochs):\n",
        "            train_loss = self.train_epoch(train_loader)\n",
        "            if (i + 1) % print_every == 0:\n",
        "                train_acc = self.test_epoch(train_loader)\n",
        "                valid_acc = self.test_epoch(valid_loader)\n",
        "                print(f\"Epoch {i+1:3d}: Train Loss {train_loss:.6f}, \"\n",
        "                      f\"Train Acc: {train_acc:.2f}, Valid Acc: {valid_acc:.2f}\")\n",
        "                best_acc = max(best_acc, valid_acc)\n",
        "        print(f\"Best Valid Acc: {best_acc:.2f}%\")"
      ],
      "outputs": [],
      "metadata": {}
    },
    {
      "cell_type": "code",
      "execution_count": 16,
      "source": [
        "def get_dataloader(x, y, x_trans, y_trans, batch_size, shuffle):\n",
        "    dataset = TensorDataset(torch.vstack([x_trans(x_item) for x_item in x]),\n",
        "                            torch.cat([y_trans(y_item) for y_item in y]))\n",
        "    dataloader = DataLoader(dataset, batch_size=batch_size, shuffle=shuffle)\n",
        "    return dataloader"
      ],
      "outputs": [],
      "metadata": {}
    },
    {
      "cell_type": "code",
      "execution_count": 17,
      "source": [
        "length = 32\n",
        "batch_size = 128\n",
        "\n",
        "unk_id = word2id[\"unk\"]\n",
        "x2long = lambda x_item: torch.LongTensor([word2id.get(token, unk_id) for token in x_item]).to(device)\n",
        "y2long = lambda y_item: torch.LongTensor([y_item]).to(device)\n",
        "\n",
        "sst_train, sst_valid = sst[\"train\"], sst[\"validation\"]\n",
        "\n",
        "x_train, y_train = preprocess(sst_train[\"sentence\"], sst_train[\"label\"], length)\n",
        "x_valid, y_valid = preprocess(sst_valid[\"sentence\"], sst_valid[\"label\"], length)\n",
        "\n",
        "train_loader = get_dataloader(x_train, y_train, x2long, y2long, batch_size, shuffle=True)\n",
        "valid_loader = get_dataloader(x_valid, y_valid, x2long, y2long, batch_size, shuffle=False)"
      ],
      "outputs": [],
      "metadata": {}
    },
    {
      "cell_type": "markdown",
      "source": [
        "> **Problem 3.1** *(2 points)* Properly train a MLP baseline model on SST and report the model's accuracy on the dev data."
      ],
      "metadata": {
        "id": "W-O9D26U_aEB"
      }
    },
    {
      "cell_type": "code",
      "execution_count": 18,
      "source": [
        "torch.manual_seed(19)\n",
        "model = MLPModel(dim=64, length=length, embed=vocab).to(device)\n",
        "Trainer(\n",
        "    model, torch.optim.Adam(model.parameters(), lr=1e-3, weight_decay=7e-4),\n",
        ").train(train_loader, valid_loader, epochs=100)"
      ],
      "outputs": [
        {
          "output_type": "stream",
          "name": "stdout",
          "text": [
            "MLPModel\n",
            "Epoch  10: Train Loss 0.329118, Train Acc: 89.95, Valid Acc: 56.86\n",
            "Epoch  20: Train Loss 0.153379, Train Acc: 97.10, Valid Acc: 58.49\n",
            "Epoch  30: Train Loss 0.083661, Train Acc: 99.18, Valid Acc: 59.22\n",
            "Epoch  40: Train Loss 0.044256, Train Acc: 99.88, Valid Acc: 60.94\n",
            "Epoch  50: Train Loss 0.043314, Train Acc: 99.95, Valid Acc: 63.40\n",
            "Epoch  60: Train Loss 0.047403, Train Acc: 99.64, Valid Acc: 65.67\n",
            "Epoch  70: Train Loss 0.032097, Train Acc: 99.82, Valid Acc: 64.58\n",
            "Epoch  80: Train Loss 0.048647, Train Acc: 99.81, Valid Acc: 65.21\n",
            "Epoch  90: Train Loss 0.014697, Train Acc: 99.96, Valid Acc: 67.39\n",
            "Epoch 100: Train Loss 0.012125, Train Acc: 99.95, Valid Acc: 67.03\n",
            "Best Valid Acc: 67.39%\n"
          ]
        }
      ],
      "metadata": {}
    },
    {
      "cell_type": "markdown",
      "source": [
        "> **Problem 3.2** *(2 points)* Implement a recurrent neural network (without using PyTorch's RNN module) where the output of the linear layer not only depends on the current input but also the previous output. Report the model's accuracy on the dev data."
      ],
      "metadata": {}
    },
    {
      "cell_type": "code",
      "execution_count": 19,
      "source": [
        "class RNNCell(nn.Module):\n",
        "    def __init__(self, in_features, hidden_features):\n",
        "        super().__init__()\n",
        "        self.V = nn.Linear(hidden_features, hidden_features)\n",
        "        self.U = nn.Linear(in_features, hidden_features)\n",
        "        self.tanh = nn.Tanh()\n",
        "        \n",
        "    def forward(self, h, x):\n",
        "        h = self.tanh(self.V(h) + self.U(x))\n",
        "        return h\n",
        "    \n",
        "class RNN(nn.Module):\n",
        "    def __init__(self, in_features, hidden_features, num_layers):\n",
        "        super().__init__()\n",
        "        self.hidden_features = hidden_features\n",
        "        self.layers = nn.ModuleList([\n",
        "            RNNCell((in_features if i == 0 else hidden_features), hidden_features)\n",
        "            for i in range(num_layers)\n",
        "        ])\n",
        "        self.W = nn.Linear(hidden_features, hidden_features)\n",
        "            \n",
        "    def forward(self, x):\n",
        "        h = [torch.zeros((x.shape[0], self.hidden_features), device=device)\n",
        "             for _ in range(len(self.layers))]\n",
        "        for x in x.split(1, dim=1):\n",
        "            x = x.squeeze(dim=1)\n",
        "            for i, layer in enumerate(self.layers):\n",
        "                h[i] = layer(h[i], h[i - 1] if i > 0 else x)\n",
        "        o = self.W(h[-1])\n",
        "        return o\n",
        "\n",
        "class RNNModel(ModelBase):\n",
        "    def __init__(self, dim, embed=None):\n",
        "        super().__init__(RNN(dim, dim, 1), dim, embed)"
      ],
      "outputs": [],
      "metadata": {}
    },
    {
      "cell_type": "code",
      "execution_count": 20,
      "source": [
        "torch.manual_seed(19)\n",
        "model = RNNModel(dim=64, embed=vocab).to(device)\n",
        "Trainer(\n",
        "    model, torch.optim.Adam(model.parameters(), lr=1e-3, weight_decay=7e-4),\n",
        ").train(train_loader, valid_loader, epochs=100)"
      ],
      "outputs": [
        {
          "output_type": "stream",
          "name": "stdout",
          "text": [
            "RNNModel\n",
            "Epoch  10: Train Loss 0.676140, Train Acc: 52.39, Valid Acc: 49.68\n",
            "Epoch  20: Train Loss 0.654097, Train Acc: 53.60, Valid Acc: 50.23\n",
            "Epoch  30: Train Loss 0.643048, Train Acc: 54.05, Valid Acc: 49.14\n",
            "Epoch  40: Train Loss 0.590394, Train Acc: 56.07, Valid Acc: 49.59\n",
            "Epoch  50: Train Loss 0.584751, Train Acc: 61.19, Valid Acc: 51.50\n",
            "Epoch  60: Train Loss 0.350945, Train Acc: 88.44, Valid Acc: 52.13\n",
            "Epoch  70: Train Loss 0.097391, Train Acc: 97.93, Valid Acc: 53.59\n",
            "Epoch  80: Train Loss 0.072805, Train Acc: 99.05, Valid Acc: 53.50\n",
            "Epoch  90: Train Loss 0.013090, Train Acc: 99.65, Valid Acc: 54.59\n",
            "Epoch 100: Train Loss 0.065586, Train Acc: 99.71, Valid Acc: 52.77\n",
            "Best Valid Acc: 54.59%\n"
          ]
        }
      ],
      "metadata": {}
    },
    {
      "cell_type": "markdown",
      "source": [
        "> **Problem 3.3** *(2 points)* Show that the cross entropy computed above is equivalent to the negative log likelihood of the probability distribution."
      ],
      "metadata": {}
    },
    {
      "cell_type": "code",
      "execution_count": null,
      "source": [],
      "outputs": [],
      "metadata": {}
    },
    {
      "cell_type": "markdown",
      "source": [
        "> **Problem 3.4 (bonus)** *(1 points)* Why is it numerically unstable if you compute log on top of softmax?"
      ],
      "metadata": {}
    },
    {
      "cell_type": "code",
      "execution_count": null,
      "source": [],
      "outputs": [],
      "metadata": {}
    },
    {
      "cell_type": "markdown",
      "source": [
        "## 4. Text Classification with LSTM and Dropout\n",
        "\n",
        "Replace your RNN module with an LSTM module. See Lecture slides 05 and 06 for the formal definition of LSTMs. \n",
        "\n",
        "You will also use Dropout, which randomly makes each dimension zero with the probability of `p` and scale it by `1/(1-p)` if it is not zero during training. Put it either at the input or the output of the LSTM to prevent it from overfitting."
      ],
      "metadata": {
        "id": "PBLmpKJRAd1h"
      }
    },
    {
      "cell_type": "code",
      "execution_count": 21,
      "source": [
        "class LSTMCell(nn.Module):\n",
        "    def __init__(self, in_features, hidden_features):\n",
        "        super().__init__()\n",
        "        self.Vf = nn.Linear(hidden_features, hidden_features)\n",
        "        self.Vi = nn.Linear(hidden_features, hidden_features)\n",
        "        self.Vo = nn.Linear(hidden_features, hidden_features)\n",
        "        self.Vc = nn.Linear(hidden_features, hidden_features)\n",
        "        self.Uf = nn.Linear(in_features, hidden_features)\n",
        "        self.Ui = nn.Linear(in_features, hidden_features)\n",
        "        self.Uo = nn.Linear(in_features, hidden_features)\n",
        "        self.Uc = nn.Linear(in_features, hidden_features)\n",
        "        self.tanh = nn.Tanh()\n",
        "        self.sigmoid = nn.Sigmoid()\n",
        "        \n",
        "    def forward(self, h, c, x):\n",
        "        f = self.sigmoid(self.Vf(h) + self.Uf(x))\n",
        "        i = self.sigmoid(self.Vi(h) + self.Ui(x))\n",
        "        o = self.sigmoid(self.Vo(h) + self.Uo(x))\n",
        "        c_ = self.tanh(self.Vc(h) + self.Uc(x))\n",
        "        c = f * c + i * c_\n",
        "        h = o * self.tanh(c)\n",
        "        return h, c\n",
        "    \n",
        "class LSTM(nn.Module):\n",
        "    def __init__(self, in_features, hidden_features, dropout=0, num_layers=1, bidirectional=False):\n",
        "        super().__init__()\n",
        "        self.bidirectional = bidirectional\n",
        "        self.hidden_features = hidden_features\n",
        "        self.layers = nn.ModuleList([\n",
        "            LSTMCell((hidden_features if i > 0 else in_features), hidden_features)\n",
        "            for i in range(num_layers)\n",
        "        ])\n",
        "        self.dropouts = nn.ModuleList([\n",
        "            nn.Dropout(dropout) if dropout > 0 else nn.Identity()\n",
        "            for _ in range(num_layers)\n",
        "        ])\n",
        "        self.W = nn.Linear(hidden_features * (2 if bidirectional else 1), hidden_features)\n",
        "            \n",
        "    def forward(self, x):\n",
        "        x_seq = x.split(1, dim=1)\n",
        "        hs = []\n",
        "        for seq in [x_seq, x_seq[::-1]] if self.bidirectional else [x_seq]:\n",
        "            h = [torch.zeros((x.shape[0], self.hidden_features), device=x.device)\n",
        "                for _ in range(len(self.layers))]\n",
        "            c = [torch.zeros((x.shape[0], self.hidden_features), device=x.device)\n",
        "                for _ in range(len(self.layers))]\n",
        "            for x in seq:\n",
        "                x = x.squeeze(dim=1)\n",
        "                for i in range(len(self.layers)):\n",
        "                    h_ = (self.dropouts[i - 1](h[i - 1]) if i > 0 else x)\n",
        "                    h[i], c[i] = self.layers[i](h[i], c[i], h_)\n",
        "            hs.append(h[-1])\n",
        "        h = torch.cat(hs, dim=1)\n",
        "        o = self.W(self.dropouts[-1](h))\n",
        "        return o"
      ],
      "outputs": [],
      "metadata": {
        "colab": {
          "base_uri": "https://localhost:8080/"
        },
        "id": "R8H0F-csCCk0",
        "outputId": "b9639721-dc91-48dd-b82c-3b179bf04742"
      }
    },
    {
      "cell_type": "markdown",
      "source": [
        "> **Problem 4.1** *(3 points)* Implement and use LSTM (without using PyTorch's LSTM module) instead of vanilla RNN. Report the accuracy on the dev data."
      ],
      "metadata": {
        "id": "G6boSxKjC4Mw"
      }
    },
    {
      "cell_type": "code",
      "execution_count": 22,
      "source": [
        "class LSTMModel(ModelBase):\n",
        "    def __init__(self, dim, embed=None):\n",
        "        super().__init__(LSTM(dim, dim), dim, embed)"
      ],
      "outputs": [],
      "metadata": {}
    },
    {
      "cell_type": "code",
      "execution_count": 23,
      "source": [
        "torch.manual_seed(19)\n",
        "model = LSTMModel(dim=64, embed=vocab).to(device)\n",
        "Trainer(\n",
        "    model, torch.optim.Adam(model.parameters(), lr=1e-3, weight_decay=7e-4),\n",
        ").train(train_loader, valid_loader, epochs=100)"
      ],
      "outputs": [
        {
          "output_type": "stream",
          "name": "stdout",
          "text": [
            "LSTMModel\n",
            "Epoch  10: Train Loss 0.691812, Train Acc: 50.73, Valid Acc: 49.95\n",
            "Epoch  20: Train Loss 0.682169, Train Acc: 51.36, Valid Acc: 50.59\n",
            "Epoch  30: Train Loss 0.686595, Train Acc: 51.78, Valid Acc: 50.68\n",
            "Epoch  40: Train Loss 0.441996, Train Acc: 88.45, Valid Acc: 73.12\n",
            "Epoch  50: Train Loss 0.189206, Train Acc: 94.99, Valid Acc: 74.57\n",
            "Epoch  60: Train Loss 0.265423, Train Acc: 96.71, Valid Acc: 72.30\n",
            "Epoch  70: Train Loss 0.163695, Train Acc: 95.90, Valid Acc: 73.66\n",
            "Epoch  80: Train Loss 0.079303, Train Acc: 97.52, Valid Acc: 71.84\n",
            "Epoch  90: Train Loss 0.077685, Train Acc: 97.26, Valid Acc: 71.66\n",
            "Epoch 100: Train Loss 0.133543, Train Acc: 97.71, Valid Acc: 73.12\n",
            "Best Valid Acc: 74.57%\n"
          ]
        }
      ],
      "metadata": {}
    },
    {
      "cell_type": "markdown",
      "source": [
        "> **Problem 4.2** *(2 points)* Use Dropout on LSTM (either at input or output). Report the accuracy on the dev data."
      ],
      "metadata": {}
    },
    {
      "cell_type": "code",
      "execution_count": 24,
      "source": [
        "class LSTMDropoutModel(ModelBase):\n",
        "    def __init__(self, dim, dropout, embed=None):\n",
        "        super().__init__(LSTM(dim, dim, dropout), dim, embed)"
      ],
      "outputs": [],
      "metadata": {}
    },
    {
      "cell_type": "code",
      "execution_count": 25,
      "source": [
        "torch.manual_seed(19)\n",
        "model = LSTMDropoutModel(dim=64, dropout=0.5, embed=vocab).to(device)\n",
        "Trainer(\n",
        "    model, torch.optim.Adam(model.parameters(), lr=1e-3, weight_decay=1e-4),\n",
        ").train(train_loader, valid_loader, epochs=100)"
      ],
      "outputs": [
        {
          "output_type": "stream",
          "name": "stdout",
          "text": [
            "LSTMDropoutModel\n",
            "Epoch  10: Train Loss 0.696492, Train Acc: 52.12, Valid Acc: 51.14\n",
            "Epoch  20: Train Loss 0.497213, Train Acc: 85.62, Valid Acc: 71.75\n",
            "Epoch  30: Train Loss 0.079066, Train Acc: 97.48, Valid Acc: 72.84\n",
            "Epoch  40: Train Loss 0.033284, Train Acc: 98.84, Valid Acc: 71.66\n",
            "Epoch  50: Train Loss 0.057790, Train Acc: 96.65, Valid Acc: 70.57\n",
            "Epoch  60: Train Loss 0.019081, Train Acc: 99.70, Valid Acc: 71.75\n",
            "Epoch  70: Train Loss 0.003143, Train Acc: 99.91, Valid Acc: 73.30\n",
            "Epoch  80: Train Loss 0.014404, Train Acc: 99.78, Valid Acc: 72.48\n",
            "Epoch  90: Train Loss 0.004946, Train Acc: 99.86, Valid Acc: 71.57\n",
            "Epoch 100: Train Loss 0.057146, Train Acc: 99.84, Valid Acc: 72.30\n",
            "Best Valid Acc: 73.30%\n"
          ]
        }
      ],
      "metadata": {}
    },
    {
      "cell_type": "markdown",
      "source": [
        "> **Problem 4.3 (bonus)** *(2 points)* Consider implementing bidirectional LSTM and two layers of LSTM. Report your accuracy on dev data."
      ],
      "metadata": {}
    },
    {
      "cell_type": "code",
      "execution_count": 26,
      "source": [
        "class LSTMBidirectionalModel(ModelBase):\n",
        "    def __init__(self, dim, embed=None):\n",
        "        super().__init__(LSTM(dim, dim, bidirectional=True), dim, embed)"
      ],
      "outputs": [],
      "metadata": {}
    },
    {
      "cell_type": "code",
      "execution_count": 27,
      "source": [
        "torch.manual_seed(19)\n",
        "model = LSTMBidirectionalModel(dim=64, embed=vocab).to(device)\n",
        "Trainer(\n",
        "    model, torch.optim.Adam(model.parameters(), lr=1e-3, weight_decay=7e-4),\n",
        ").train(train_loader, valid_loader, epochs=100)"
      ],
      "outputs": [
        {
          "output_type": "stream",
          "name": "stdout",
          "text": [
            "LSTMBidirectionalModel\n",
            "Epoch  10: Train Loss 0.496354, Train Acc: 79.44, Valid Acc: 68.30\n",
            "Epoch  20: Train Loss 0.237126, Train Acc: 93.42, Valid Acc: 70.75\n",
            "Epoch  30: Train Loss 0.094455, Train Acc: 98.35, Valid Acc: 69.30\n",
            "Epoch  40: Train Loss 0.040121, Train Acc: 98.96, Valid Acc: 70.03\n",
            "Epoch  50: Train Loss 0.014624, Train Acc: 99.86, Valid Acc: 71.39\n",
            "Epoch  60: Train Loss 0.008459, Train Acc: 99.95, Valid Acc: 71.30\n",
            "Epoch  70: Train Loss 0.016680, Train Acc: 99.12, Valid Acc: 69.12\n",
            "Epoch  80: Train Loss 0.046878, Train Acc: 99.45, Valid Acc: 70.03\n",
            "Epoch  90: Train Loss 0.031936, Train Acc: 99.67, Valid Acc: 71.57\n",
            "Epoch 100: Train Loss 0.290228, Train Acc: 97.34, Valid Acc: 70.39\n",
            "Best Valid Acc: 71.57%\n"
          ]
        }
      ],
      "metadata": {}
    },
    {
      "cell_type": "code",
      "execution_count": 28,
      "source": [
        "class LSTMTwoLayerModel(ModelBase):\n",
        "    def __init__(self, dim, embed=None):\n",
        "        super().__init__(LSTM(dim, dim, num_layers=2), dim, embed)"
      ],
      "outputs": [],
      "metadata": {}
    },
    {
      "cell_type": "code",
      "execution_count": 29,
      "source": [
        "torch.manual_seed(19)\n",
        "model = LSTMTwoLayerModel(dim=64, embed=vocab).to(device)\n",
        "Trainer(\n",
        "    model, torch.optim.Adam(model.parameters(), lr=1e-3, weight_decay=1e-4),\n",
        ").train(train_loader, valid_loader, epochs=100)"
      ],
      "outputs": [
        {
          "output_type": "stream",
          "name": "stdout",
          "text": [
            "LSTMTwoLayerModel\n",
            "Epoch  10: Train Loss 0.664806, Train Acc: 52.52, Valid Acc: 50.14\n",
            "Epoch  20: Train Loss 0.433135, Train Acc: 84.49, Valid Acc: 69.48\n",
            "Epoch  30: Train Loss 0.159966, Train Acc: 94.99, Valid Acc: 71.12\n",
            "Epoch  40: Train Loss 0.120943, Train Acc: 97.19, Valid Acc: 70.57\n",
            "Epoch  50: Train Loss 0.014681, Train Acc: 99.29, Valid Acc: 71.12\n",
            "Epoch  60: Train Loss 0.004357, Train Acc: 99.73, Valid Acc: 71.75\n",
            "Epoch  70: Train Loss 0.003934, Train Acc: 99.59, Valid Acc: 70.21\n",
            "Epoch  80: Train Loss 0.007000, Train Acc: 99.82, Valid Acc: 71.39\n",
            "Epoch  90: Train Loss 0.004084, Train Acc: 99.75, Valid Acc: 70.57\n",
            "Epoch 100: Train Loss 0.005964, Train Acc: 99.92, Valid Acc: 69.75\n",
            "Best Valid Acc: 71.75%\n"
          ]
        }
      ],
      "metadata": {}
    },
    {
      "cell_type": "markdown",
      "source": [
        "## 5. Pretrained Word Vectors\n",
        "The last step is to use pretrained vocabulary and word vectors. The prebuilt vocabulary will replace the vocabulary you built with SST training data, and the word vectors will replace the embedding vectors. You will observe the power of leveraging self-supservised pretrained models."
      ],
      "metadata": {
        "id": "855DrT78DXps"
      }
    },
    {
      "cell_type": "markdown",
      "source": [
        "> **Problem 5.1 (bonus)** *(2 points)* Go to https://nlp.stanford.edu/projects/glove/ and download `glove.6B.zip`. Use these pretrained word vectors to replace word embeddings in your model from 4.2. Report the model's accuracy on the dev data."
      ],
      "metadata": {}
    },
    {
      "cell_type": "code",
      "execution_count": 30,
      "source": [
        "from urllib import request\n",
        "import zipfile\n",
        "\n",
        "if not os.path.exists(\"glove/glove.6B.100d.txt\"):\n",
        "    os.makedirs(\"glove\", exist_ok=True)\n",
        "    print(\"Downloading glove.6B.zip\")\n",
        "    request.urlretrieve(\"http://nlp.stanford.edu/data/glove.6B.zip\", \"glove/glove.6B.zip\")\n",
        "    with zipfile.ZipFile(\"glove.6B.zip\", \"r\") as zipf:\n",
        "        zipf.extractall(\"glove\")"
      ],
      "outputs": [],
      "metadata": {}
    },
    {
      "cell_type": "code",
      "execution_count": 31,
      "source": [
        "dim = 50\n",
        "\n",
        "with open(f\"glove/glove.6B.{dim}d.txt\", \"r\") as glove:\n",
        "    glove_map = map(lambda line: line.split(), glove.readlines())\n",
        "    word2vec = {word: list(map(float, vec)) for word, *vec in glove_map}\n",
        "\n",
        "unk_vec = word2vec[\"unk\"]\n",
        "x2vec = lambda x_item: torch.Tensor([[word2vec.get(token, unk_vec) for token in x_item]]).to(device)\n",
        "\n",
        "glove_train_loader = get_dataloader(x_train, y_train, x2vec, y2long, batch_size, shuffle=True)\n",
        "glove_valid_loader = get_dataloader(x_valid, y_valid, x2vec, y2long, batch_size, shuffle=False)"
      ],
      "outputs": [],
      "metadata": {}
    },
    {
      "cell_type": "code",
      "execution_count": 32,
      "source": [
        "torch.manual_seed(19)\n",
        "model = MLPModel(dim=dim, length=length).to(device)\n",
        "Trainer(\n",
        "    model, torch.optim.Adam(model.parameters(), lr=1e-3, weight_decay=7e-4),\n",
        ").train(glove_train_loader, glove_valid_loader, epochs=100)"
      ],
      "outputs": [
        {
          "output_type": "stream",
          "name": "stdout",
          "text": [
            "MLPModel\n",
            "Epoch  10: Train Loss 0.369379, Train Acc: 83.02, Valid Acc: 65.58\n",
            "Epoch  20: Train Loss 0.271266, Train Acc: 90.94, Valid Acc: 66.58\n",
            "Epoch  30: Train Loss 0.202376, Train Acc: 95.59, Valid Acc: 65.49\n",
            "Epoch  40: Train Loss 0.086696, Train Acc: 95.94, Valid Acc: 66.39\n",
            "Epoch  50: Train Loss 0.056413, Train Acc: 98.88, Valid Acc: 65.21\n",
            "Epoch  60: Train Loss 0.029469, Train Acc: 97.81, Valid Acc: 66.67\n",
            "Epoch  70: Train Loss 0.017755, Train Acc: 98.36, Valid Acc: 65.85\n",
            "Epoch  80: Train Loss 0.025084, Train Acc: 99.56, Valid Acc: 64.31\n",
            "Epoch  90: Train Loss 0.025480, Train Acc: 99.92, Valid Acc: 66.30\n",
            "Epoch 100: Train Loss 0.023588, Train Acc: 99.53, Valid Acc: 65.40\n",
            "Best Valid Acc: 66.67%\n"
          ]
        }
      ],
      "metadata": {}
    },
    {
      "cell_type": "code",
      "execution_count": 33,
      "source": [
        "torch.manual_seed(19)\n",
        "model = RNNModel(dim=dim).to(device)\n",
        "Trainer(\n",
        "    model, torch.optim.Adam(model.parameters(), lr=3e-4, weight_decay=1e-4),\n",
        ").train(glove_train_loader, glove_valid_loader, epochs=100)"
      ],
      "outputs": [
        {
          "output_type": "stream",
          "name": "stdout",
          "text": [
            "RNNModel\n",
            "Epoch  10: Train Loss 0.686666, Train Acc: 51.58, Valid Acc: 50.77\n",
            "Epoch  20: Train Loss 0.578314, Train Acc: 68.79, Valid Acc: 70.75\n",
            "Epoch  30: Train Loss 0.648527, Train Acc: 69.82, Valid Acc: 70.48\n",
            "Epoch  40: Train Loss 0.564061, Train Acc: 70.68, Valid Acc: 71.03\n",
            "Epoch  50: Train Loss 0.559427, Train Acc: 71.15, Valid Acc: 69.94\n",
            "Epoch  60: Train Loss 0.518446, Train Acc: 71.61, Valid Acc: 69.57\n",
            "Epoch  70: Train Loss 0.535677, Train Acc: 73.05, Valid Acc: 69.66\n",
            "Epoch  80: Train Loss 0.502536, Train Acc: 73.46, Valid Acc: 71.48\n",
            "Epoch  90: Train Loss 0.552313, Train Acc: 74.88, Valid Acc: 71.93\n",
            "Epoch 100: Train Loss 0.513261, Train Acc: 74.60, Valid Acc: 72.03\n",
            "Best Valid Acc: 72.03%\n"
          ]
        }
      ],
      "metadata": {}
    },
    {
      "cell_type": "code",
      "execution_count": 34,
      "source": [
        "torch.manual_seed(19)\n",
        "model = LSTMModel(dim=dim).to(device)\n",
        "Trainer(\n",
        "    model, torch.optim.Adam(model.parameters(), lr=3e-4, weight_decay=1e-4),\n",
        ").train(glove_train_loader, glove_valid_loader, epochs=100)"
      ],
      "outputs": [
        {
          "output_type": "stream",
          "name": "stdout",
          "text": [
            "LSTMModel\n",
            "Epoch  10: Train Loss 0.688367, Train Acc: 56.16, Valid Acc: 57.77\n",
            "Epoch  20: Train Loss 0.535414, Train Acc: 71.00, Valid Acc: 69.85\n",
            "Epoch  30: Train Loss 0.536799, Train Acc: 70.68, Valid Acc: 69.30\n",
            "Epoch  40: Train Loss 0.506775, Train Acc: 75.91, Valid Acc: 73.12\n",
            "Epoch  50: Train Loss 0.438820, Train Acc: 78.57, Valid Acc: 74.57\n",
            "Epoch  60: Train Loss 0.487117, Train Acc: 80.20, Valid Acc: 74.84\n",
            "Epoch  70: Train Loss 0.421967, Train Acc: 81.64, Valid Acc: 74.75\n",
            "Epoch  80: Train Loss 0.463179, Train Acc: 80.10, Valid Acc: 71.66\n",
            "Epoch  90: Train Loss 0.429875, Train Acc: 82.12, Valid Acc: 73.93\n",
            "Epoch 100: Train Loss 0.366922, Train Acc: 85.56, Valid Acc: 74.84\n",
            "Best Valid Acc: 74.84%\n"
          ]
        }
      ],
      "metadata": {}
    },
    {
      "cell_type": "code",
      "execution_count": 35,
      "source": [
        "torch.manual_seed(19)\n",
        "model = LSTMDropoutModel(dim=dim, dropout=0.5).to(device)\n",
        "Trainer(\n",
        "    model, torch.optim.Adam(model.parameters(), lr=3e-4, weight_decay=1e-4),\n",
        ").train(glove_train_loader, glove_valid_loader, epochs=100)"
      ],
      "outputs": [
        {
          "output_type": "stream",
          "name": "stdout",
          "text": [
            "LSTMDropoutModel\n",
            "Epoch  10: Train Loss 0.693591, Train Acc: 50.54, Valid Acc: 50.14\n",
            "Epoch  20: Train Loss 0.568008, Train Acc: 68.88, Valid Acc: 69.85\n",
            "Epoch  30: Train Loss 0.575666, Train Acc: 70.96, Valid Acc: 68.85\n",
            "Epoch  40: Train Loss 0.529619, Train Acc: 75.41, Valid Acc: 73.75\n",
            "Epoch  50: Train Loss 0.472025, Train Acc: 77.39, Valid Acc: 75.57\n",
            "Epoch  60: Train Loss 0.511019, Train Acc: 78.52, Valid Acc: 74.93\n",
            "Epoch  70: Train Loss 0.420726, Train Acc: 80.29, Valid Acc: 75.39\n",
            "Epoch  80: Train Loss 0.402832, Train Acc: 80.69, Valid Acc: 75.66\n",
            "Epoch  90: Train Loss 0.443642, Train Acc: 81.17, Valid Acc: 74.57\n",
            "Epoch 100: Train Loss 0.381463, Train Acc: 83.92, Valid Acc: 76.20\n",
            "Best Valid Acc: 76.20%\n"
          ]
        }
      ],
      "metadata": {}
    },
    {
      "cell_type": "code",
      "execution_count": 36,
      "source": [
        "torch.manual_seed(19)\n",
        "model = LSTMBidirectionalModel(dim=dim).to(device)\n",
        "Trainer(\n",
        "    model, torch.optim.Adam(model.parameters(), lr=3e-4, weight_decay=1e-4),\n",
        ").train(glove_train_loader, glove_valid_loader, epochs=100)"
      ],
      "outputs": [
        {
          "output_type": "stream",
          "name": "stdout",
          "text": [
            "LSTMBidirectionalModel\n",
            "Epoch  10: Train Loss 0.505551, Train Acc: 72.05, Valid Acc: 71.48\n",
            "Epoch  20: Train Loss 0.429013, Train Acc: 75.19, Valid Acc: 72.57\n",
            "Epoch  30: Train Loss 0.435818, Train Acc: 78.53, Valid Acc: 73.57\n",
            "Epoch  40: Train Loss 0.432332, Train Acc: 79.89, Valid Acc: 71.30\n",
            "Epoch  50: Train Loss 0.406536, Train Acc: 82.43, Valid Acc: 74.75\n",
            "Epoch  60: Train Loss 0.389317, Train Acc: 83.73, Valid Acc: 73.84\n",
            "Epoch  70: Train Loss 0.358165, Train Acc: 86.03, Valid Acc: 74.48\n",
            "Epoch  80: Train Loss 0.414326, Train Acc: 85.39, Valid Acc: 72.48\n",
            "Epoch  90: Train Loss 0.296984, Train Acc: 89.83, Valid Acc: 73.02\n",
            "Epoch 100: Train Loss 0.209353, Train Acc: 91.20, Valid Acc: 73.12\n",
            "Best Valid Acc: 74.75%\n"
          ]
        }
      ],
      "metadata": {}
    },
    {
      "cell_type": "code",
      "execution_count": 37,
      "source": [
        "torch.manual_seed(19)\n",
        "model = LSTMTwoLayerModel(dim=dim).to(device)\n",
        "Trainer(\n",
        "    model, torch.optim.Adam(model.parameters(), lr=3e-4, weight_decay=1e-4),\n",
        ").train(glove_train_loader, glove_valid_loader, epochs=100)"
      ],
      "outputs": [
        {
          "output_type": "stream",
          "name": "stdout",
          "text": [
            "LSTMTwoLayerModel\n",
            "Epoch  10: Train Loss 0.586694, Train Acc: 68.42, Valid Acc: 71.21\n",
            "Epoch  20: Train Loss 0.584138, Train Acc: 71.61, Valid Acc: 70.84\n",
            "Epoch  30: Train Loss 0.495693, Train Acc: 74.50, Valid Acc: 70.75\n",
            "Epoch  40: Train Loss 0.469064, Train Acc: 76.47, Valid Acc: 74.39\n",
            "Epoch  50: Train Loss 0.517824, Train Acc: 77.72, Valid Acc: 74.11\n",
            "Epoch  60: Train Loss 0.468988, Train Acc: 78.48, Valid Acc: 75.30\n",
            "Epoch  70: Train Loss 0.471545, Train Acc: 79.97, Valid Acc: 74.93\n",
            "Epoch  80: Train Loss 0.397451, Train Acc: 81.34, Valid Acc: 74.57\n",
            "Epoch  90: Train Loss 0.413070, Train Acc: 81.92, Valid Acc: 74.84\n",
            "Epoch 100: Train Loss 0.345543, Train Acc: 83.36, Valid Acc: 74.66\n",
            "Best Valid Acc: 75.30%\n"
          ]
        }
      ],
      "metadata": {}
    }
  ]
}